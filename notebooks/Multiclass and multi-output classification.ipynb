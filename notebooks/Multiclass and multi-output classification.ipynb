{
 "cells": [
  {
   "cell_type": "markdown",
   "metadata": {
    "_cell_guid": "8eb608e3-4a08-4962-be7e-f53ea5aa1421",
    "_uuid": "d42dbe67549b6bb80d80d2ff8b613733f1c84d30"
   },
   "source": [
    "This kernel explores the Myers-Briggs Personality Type Dataset. The data was extracted from comments let by users with different MBTI personality.\n",
    "\n",
    "I used a simple model which trains relatively quickly. The cross validation output an f1-score of ~0.65. It is possible to search for hyper paramaters with bayesian optimisation to improve accuracy. Also, a pre-trained words embedding like glove in an neural model may bring more insight. A lot of the links are dead links but it would be interesting to scrap the different urls to extract more information. \n",
    "\n",
    "# Text Analysis with (MBTI) Myers-Briggs Personality Type Dataset\n",
    "\n",
    "## Description \n",
    "\n",
    "\n",
    "\n",
    "Ii is implemented in Python 3.6.\n",
    "\n",
    "The main steps are :\n",
    "\n",
    "1. Treat data\n",
    "* Load data using pandas\n",
    "* Split each row by type | comments \n",
    "* Cleaning each comments by :\n",
    "    * removing all urls replaced by dummy word 'link' -> erase (replace by '')\n",
    "    * removing everything except letters\n",
    "    * removing larger spaces and lowering\n",
    "    * removing stopwords and lemmatizing\n",
    "    * Labelizing each mbti personality\n",
    "\n",
    "2. Learning phase:\n",
    "    - 16 classes (mutliclass):\n",
    "        * Run tf-idf and count vectorization of words vectorization \n",
    "        * Compute pca, fast\\_ica, tsne\n",
    "        * Multinomial Naive Bayes (F1-score ~ 0.603) [5 fold stratified cross validation]\n",
    "        * XGboost (F1-score ~ 0.656) [5 fold stratified cross validation]\n",
    "        \n",
    "    - 4 binary classes (mutlioutput binary classification):\n",
    "        * 4 Adaboost model with a multioutput classifier\n",
    "        \n",
    "As the letters are only paired by two, the problem is to predict 4 binary variables. The cross validation gives the following table. \n",
    "          \n",
    "|Attribute| Extraversion (E) - Introversion (I)  | Sensation (S) - INtuition (N)  | Thinking (T) - Feeling (F)  | Judgement (J) - Perception (P)  |   \n",
    "|:-:|---|---|---|---|\n",
    "|F1-Score|0.59 | 0.44 | 0.8 |  0.83| \n",
    "\n",
    "This allows us to see what are the axes that the algorithm may fail at identifying (S Sensation vs N Intuition).\n",
    "\n",
    "Finally there are two neural networks, (1D convnet and LSTM) but I did not have the time to tune them.\n",
    "\n",
    "TO DO:\n",
    "- Scrape urls and extract topic of pages\n",
    "- Balance the dataset with resampling techniques\n",
    "- Hyper Parameter Optimization\n",
    "- Convolutional Network with glove embedding\n",
    "- Search multiple classifiers (not correlated) and stack them and build pipeline with Lasso."
   ]
  },
  {
   "cell_type": "code",
   "execution_count": 5,
   "metadata": {
    "_cell_guid": "0e10c6de-685a-4e93-9925-7d73cb27497c",
    "_uuid": "a0f7e95a8994cea779577c48c3d22cde3fdf2cc5"
   },
   "outputs": [],
   "source": [
    "import pandas as pd\n",
    "import numpy as np\n",
    "import re\n",
    "import matplotlib.pyplot as plt\n",
    "from matplotlib.pyplot import *\n",
    "import seaborn as sns\n",
    "\n",
    "%matplotlib inline\n",
    "\n",
    "# read data\n",
    "data = pd.read_csv('mbti_1.csv') # dtype = {'type': str,'post': ,"
   ]
  },
  {
   "cell_type": "markdown",
   "metadata": {
    "_cell_guid": "376de180-026c-46c1-8dfa-e2550edd0955",
    "_uuid": "840ae5aa20a5c29b983be8c45928862c299b9792"
   },
   "source": [
    "## Overview of the data"
   ]
  },
  {
   "cell_type": "code",
   "execution_count": 6,
   "metadata": {
    "_cell_guid": "315f710c-371f-4c9d-87f0-13fbc0e29047",
    "_uuid": "03a18534be1141ebff5875c48f7075995f23ca60"
   },
   "outputs": [
    {
     "data": {
      "text/html": [
       "<div>\n",
       "<style scoped>\n",
       "    .dataframe tbody tr th:only-of-type {\n",
       "        vertical-align: middle;\n",
       "    }\n",
       "\n",
       "    .dataframe tbody tr th {\n",
       "        vertical-align: top;\n",
       "    }\n",
       "\n",
       "    .dataframe thead th {\n",
       "        text-align: right;\n",
       "    }\n",
       "</style>\n",
       "<table border=\"1\" class=\"dataframe\">\n",
       "  <thead>\n",
       "    <tr style=\"text-align: right;\">\n",
       "      <th></th>\n",
       "      <th>type</th>\n",
       "      <th>posts</th>\n",
       "    </tr>\n",
       "  </thead>\n",
       "  <tbody>\n",
       "    <tr>\n",
       "      <th>0</th>\n",
       "      <td>INFJ</td>\n",
       "      <td>'http://www.youtube.com/watch?v=qsXHcwe3krw|||...</td>\n",
       "    </tr>\n",
       "    <tr>\n",
       "      <th>1</th>\n",
       "      <td>ENTP</td>\n",
       "      <td>'I'm finding the lack of me in these posts ver...</td>\n",
       "    </tr>\n",
       "    <tr>\n",
       "      <th>2</th>\n",
       "      <td>INTP</td>\n",
       "      <td>'Good one  _____   https://www.youtube.com/wat...</td>\n",
       "    </tr>\n",
       "    <tr>\n",
       "      <th>3</th>\n",
       "      <td>INTJ</td>\n",
       "      <td>'Dear INTP,   I enjoyed our conversation the o...</td>\n",
       "    </tr>\n",
       "    <tr>\n",
       "      <th>4</th>\n",
       "      <td>ENTJ</td>\n",
       "      <td>'You're fired.|||That's another silly misconce...</td>\n",
       "    </tr>\n",
       "  </tbody>\n",
       "</table>\n",
       "</div>"
      ],
      "text/plain": [
       "   type                                              posts\n",
       "0  INFJ  'http://www.youtube.com/watch?v=qsXHcwe3krw|||...\n",
       "1  ENTP  'I'm finding the lack of me in these posts ver...\n",
       "2  INTP  'Good one  _____   https://www.youtube.com/wat...\n",
       "3  INTJ  'Dear INTP,   I enjoyed our conversation the o...\n",
       "4  ENTJ  'You're fired.|||That's another silly misconce..."
      ]
     },
     "execution_count": 6,
     "metadata": {},
     "output_type": "execute_result"
    }
   ],
   "source": [
    "data.head(5)"
   ]
  },
  {
   "cell_type": "markdown",
   "metadata": {
    "_cell_guid": "bda2db8c-c9c6-446b-a40e-f86241d60619",
    "_uuid": "2d145f588ec28c76d0c757d53e3b657e21c4e7a9"
   },
   "source": [
    "### List of posts"
   ]
  },
  {
   "cell_type": "code",
   "execution_count": 7,
   "metadata": {
    "_cell_guid": "05abe1d2-7acd-4f20-9539-be413c76822b",
    "_uuid": "14c6ff28cd51d9969324fecb6a53b05ca5584069"
   },
   "outputs": [
    {
     "data": {
      "text/plain": [
       "[[\"'http://www.youtube.com/watch?v=qsXHcwe3krw\",\n",
       "  'http://41.media.tumblr.com/tumblr_lfouy03PMA1qa1rooo1_500.jpg',\n",
       "  'enfp and intj moments  https://www.youtube.com/watch?v=iz7lE1g4XM4  sportscenter not top ten plays  https://www.youtube.com/watch?v=uCdfze1etec  pranks',\n",
       "  'What has been the most life-changing experience in your life?',\n",
       "  'http://www.youtube.com/watch?v=vXZeYwwRDw8   http://www.youtube.com/watch?v=u8ejam5DP3E  On repeat for most of today.',\n",
       "  'May the PerC Experience immerse you.',\n",
       "  'The last thing my INFJ friend posted on his facebook before committing suicide the next day. Rest in peace~   http://vimeo.com/22842206',\n",
       "  \"Hello ENFJ7. Sorry to hear of your distress. It's only natural for a relationship to not be perfection all the time in every moment of existence. Try to figure the hard times as times of growth, as...\",\n",
       "  '84389  84390  http://wallpaperpassion.com/upload/23700/friendship-boy-and-girl-wallpaper.jpg  http://assets.dornob.com/wp-content/uploads/2010/04/round-home-design.jpg ...',\n",
       "  'Welcome and stuff.',\n",
       "  'http://playeressence.com/wp-content/uploads/2013/08/RED-red-the-pokemon-master-32560474-450-338.jpg  Game. Set. Match.',\n",
       "  \"Prozac, wellbrutin, at least thirty minutes of moving your legs (and I don't mean moving them while sitting in your same desk chair), weed in moderation (maybe try edibles as a healthier alternative...\",\n",
       "  \"Basically come up with three items you've determined that each type (or whichever types you want to do) would more than likely use, given each types' cognitive functions and whatnot, when left by...\",\n",
       "  'All things in moderation.  Sims is indeed a video game, and a good one at that. Note: a good one at that is somewhat subjective in that I am not completely promoting the death of any given Sim...',\n",
       "  'Dear ENFP:  What were your favorite video games growing up and what are your now, current favorite video games? :cool:',\n",
       "  'https://www.youtube.com/watch?v=QyPqT8umzmY',\n",
       "  'It appears to be too late. :sad:',\n",
       "  \"There's someone out there for everyone.\",\n",
       "  'Wait... I thought confidence was a good thing.',\n",
       "  \"I just cherish the time of solitude b/c i revel within my inner world more whereas most other time i'd be workin... just enjoy the me time while you can. Don't worry, people will always be around to...\",\n",
       "  \"Yo entp ladies... if you're into a complimentary personality,well, hey.\",\n",
       "  '... when your main social outlet is xbox live conversations and even then you verbally fatigue quickly.',\n",
       "  'http://www.youtube.com/watch?v=gDhy7rdfm14  I really dig the part from 1:46 to 2:50',\n",
       "  'http://www.youtube.com/watch?v=msqXffgh7b8',\n",
       "  'Banned because this thread requires it of me.',\n",
       "  'Get high in backyard, roast and eat marshmellows in backyard while conversing over something intellectual, followed by massages and kisses.',\n",
       "  'http://www.youtube.com/watch?v=Mw7eoU3BMbE',\n",
       "  'http://www.youtube.com/watch?v=4V2uYORhQOk',\n",
       "  'http://www.youtube.com/watch?v=SlVmgFQQ0TI',\n",
       "  \"Banned for too many b's in that sentence. How could you! Think of the B!\",\n",
       "  'Banned for watching movies in the corner with the dunces.',\n",
       "  'Banned because Health class clearly taught you nothing about peer pressure.',\n",
       "  'Banned for a whole host of reasons!',\n",
       "  'http://www.youtube.com/watch?v=IRcrv41hgz4',\n",
       "  \"1) Two baby deer on left and right munching on a beetle in the middle.  2) Using their own blood, two cavemen diary today's latest happenings on their designated cave diary wall.  3) I see it as...\",\n",
       "  'a pokemon world  an infj society  everyone becomes an optimist',\n",
       "  '49142',\n",
       "  'http://www.youtube.com/watch?v=ZRCEq_JFeFM',\n",
       "  'http://discovermagazine.com/2012/jul-aug/20-things-you-didnt-know-about-deserts/desert.jpg',\n",
       "  'http://oyster.ignimgs.com/mediawiki/apis.ign.com/pokemon-silver-version/d/dd/Ditto.gif',\n",
       "  'http://www.serebii.net/potw-dp/Scizor.jpg',\n",
       "  \"Not all artists are artists because they draw. It's the idea that counts in forming something of your own... like a signature.\",\n",
       "  \"Welcome to the robot ranks, person who downed my self-esteem cuz I'm not an avid signature artist like herself. :proud:\",\n",
       "  'Banned for taking all the room under my bed. Ya gotta learn to share with the roaches.',\n",
       "  'http://www.youtube.com/watch?v=w8IgImn57aQ',\n",
       "  'Banned for being too much of a thundering, grumbling kind of storm... yep.',\n",
       "  \"Ahh... old high school music I haven't heard in ages.   http://www.youtube.com/watch?v=dcCRUPCdB1w\",\n",
       "  \"I failed a public speaking class a few years ago and I've sort of learned what I could do better were I to be in that position again. A big part of my failure was just overloading myself with too...\",\n",
       "  \"I like this person's mentality. He's a confirmed INTJ by the way. http://www.youtube.com/watch?v=hGKLI-GEc6M\",\n",
       "  \"Move to the Denver area and start a new life for myself.'\"]]"
      ]
     },
     "execution_count": 7,
     "metadata": {},
     "output_type": "execute_result"
    }
   ],
   "source": [
    "[p.split('|||') for p in data.head(1).posts.values]"
   ]
  },
  {
   "cell_type": "markdown",
   "metadata": {
    "_cell_guid": "24c37003-e27e-4278-aa92-0884c595f1b3",
    "_uuid": "79b9bb46f0aeba9d734a35bfdffedb7ad90ff51c"
   },
   "source": [
    "# Distribution of the target variable?"
   ]
  },
  {
   "cell_type": "code",
   "execution_count": 8,
   "metadata": {
    "_cell_guid": "1abc712c-49df-4316-ae70-c2e6a68c11e0",
    "_uuid": "2fc67d1db4ef61d5998b262ea0cf4eae9bbe8594"
   },
   "outputs": [
    {
     "data": {
      "text/plain": [
       "<matplotlib.axes._subplots.AxesSubplot at 0x7ff0793bec88>"
      ]
     },
     "execution_count": 8,
     "metadata": {},
     "output_type": "execute_result"
    },
    {
     "data": {
      "image/png": "[encoded data removed]",
      "text/plain": [
       "<Figure size 2880x1440 with 1 Axes>"
      ]
     },
     "metadata": {},
     "output_type": "display_data"
    }
   ],
   "source": [
    "plt.figure(figsize=(40,20))\n",
    "plt.xlabel('type', size = 30)\n",
    "plt.ylabel('type', size = 30)\n",
    "plt.title('Distribution of data set', size=35)\n",
    "plt.xticks(fontsize=24, rotation=0)\n",
    "plt.yticks(fontsize=24, rotation=0)\n",
    "sns.countplot(data=data, x='type')"
   ]
  },
  {
   "cell_type": "markdown",
   "metadata": {
    "_cell_guid": "ad38422a-6742-41f5-ab7c-13f3dd78880b",
    "_uuid": "6eefe6923a02aeeefc0dcde74ee0a914f41bb73b"
   },
   "source": [
    "#### It is clearly unbalanced throughout the different classes. "
   ]
  },
  {
   "cell_type": "markdown",
   "metadata": {
    "_cell_guid": "dbcabf3e-06a9-4bf4-88d8-a16690a12c11",
    "_uuid": "1832a12c5350356c50d8664aeb4cecd68adc6026"
   },
   "source": [
    "# Preprocessing"
   ]
  },
  {
   "cell_type": "markdown",
   "metadata": {
    "_cell_guid": "a2fbfbc6-4aea-4202-acd5-ad5a07d61fb4",
    "_uuid": "196c5662911d0f7c33a49773138c6506d9366fdf"
   },
   "source": [
    "### Label Encoding"
   ]
  },
  {
   "cell_type": "code",
   "execution_count": 9,
   "metadata": {
    "_cell_guid": "99d84362-6521-45a4-9c14-3d236d154bae",
    "_uuid": "a66303b0a5f658ae3a4852224659a706879b59bc"
   },
   "outputs": [],
   "source": [
    "##### Encode each type to an int\n",
    "\n",
    "from sklearn.preprocessing import LabelEncoder\n",
    "\n",
    "unique_type_list = ['INFJ', 'ENTP', 'INTP', 'INTJ', 'ENTJ', 'ENFJ', 'INFP', 'ENFP',\n",
    "       'ISFP', 'ISTP', 'ISFJ', 'ISTJ', 'ESTP', 'ESFP', 'ESTJ', 'ESFJ']\n",
    "lab_encoder = LabelEncoder().fit(unique_type_list)\n"
   ]
  },
  {
   "cell_type": "markdown",
   "metadata": {
    "_cell_guid": "5840c3c9-2e64-4e85-bdb5-cddd64c17ebc",
    "_uuid": "6dff206a4e913892839455b75ffc22de56320743"
   },
   "source": [
    "### Posts cleaning"
   ]
  },
  {
   "cell_type": "code",
   "execution_count": 10,
   "metadata": {},
   "outputs": [],
   "source": [
    "# import nltk\n",
    "# nltk.download('stopwords')\n",
    "# stopwords.words('english')[:10]\n",
    "# nltk.download('wordnet')"
   ]
  },
  {
   "cell_type": "code",
   "execution_count": 11,
   "metadata": {
    "_cell_guid": "84616491-994b-4659-b515-9b92fe707add",
    "_uuid": "29ccab43c1c8eb2ab4caa3085513f7e56d69c7a4"
   },
   "outputs": [
    {
     "name": "stdout",
     "output_type": "stream",
     "text": [
      "CPU times: user 0 ns, sys: 0 ns, total: 0 ns\n",
      "Wall time: 375 µs\n",
      "CPU times: user 0 ns, sys: 0 ns, total: 0 ns\n",
      "Wall time: 472 µs\n",
      "CPU times: user 4 ms, sys: 0 ns, total: 4 ms\n",
      "Wall time: 2.39 ms\n",
      "\n",
      "Before preprocessing:\n",
      "\n",
      " 'I'm finding the lack of me in these posts very alarming.|||Sex can be boring if it's in the same position often. For example me and my girlfriend are currently in an environment where we have to creatively use cowgirl and missionary. There isn't enough...|||Giving new meaning to 'Game' theory.|||Hello *ENTP Grin*  That's all it takes. Than we converse and they do most of the flirting while I acknowledge their presence and return their words with smooth wordplay and more cheeky grins.|||This + L\n",
      "\n",
      "After preprocessing:\n",
      "\n",
      "  i m finding the lack of me in these posts very alarming sex can be boring if it s in the same position often for example me and my girlfriend are currently in an environment where we have to creatively use cowgirl and missionary there isn t enough giving new meaning to game theory hello entp grin that s all it takes than we converse and they do most of the flirting while i acknowledge their presence and return their words with smooth wordplay and more cheeky grins this lack of balance and hand \n",
      "\n",
      "List of urls:\n"
     ]
    },
    {
     "data": {
      "text/plain": [
       "['http://img188.imageshack.us/img188/6422/6020d1f9da6944a6b71bbe6.jpg',\n",
       " 'http://img.adultdvdtalk.com/813a0c6243814cab84c51',\n",
       " 'http://i817.photobucket.com/albums/zz96/kamioo/Dirtywinch.png',\n",
       " 'http://i817.photobucket.com/albums/zz96/kamioo/Thunderstorm.pnghttp://i817.photobucket.com/albums/zz96/kamioo/Thunderstormbw.png',\n",
       " 'http://i817.photobucket.com/albums/zz96/kamioo/Cosmicstorm.png',\n",
       " 'http://www.youtube.com/watch?v=j5W73HaVQBg',\n",
       " 'http://i817.photobucket.com/albums/zz96/kamioo/Deathgrip.png',\n",
       " 'http://i817.photobucket.com/albums/zz96/kamioo/Deathgripbw.png',\n",
       " 'http://i817.photobucket.com/albums/zz96/kamioo/Statickitten.png']"
      ]
     },
     "execution_count": 11,
     "metadata": {},
     "output_type": "execute_result"
    }
   ],
   "source": [
    "import time\n",
    "##### Compute list of subject with Type | list of comments \n",
    "\n",
    "# Time\n",
    "%time data.posts[1].replace('+', ' ').replace('.', ' ').replace(',', ' ').replace(':', ' ')\n",
    "%time re.sub('http[s]?://(?:[a-zA-Z]|[0-9]|[$-_@.&+]|(?:%[0-9a-fA-F][0-9a-fA-F]))+', '', data.posts[1])\n",
    "\n",
    "\n",
    "from nltk.corpus import stopwords \n",
    "from nltk import word_tokenize\n",
    "from nltk.stem import PorterStemmer, WordNetLemmatizer\n",
    "\n",
    "# Lemmatizer | Stemmatizer\n",
    "stemmer = PorterStemmer()\n",
    "lemmatiser = WordNetLemmatizer()\n",
    "\n",
    "# Cache the stop words for speed \n",
    "cachedStopWords = stopwords.words(\"english\")\n",
    "\n",
    "# One post\n",
    "OnePost = data.posts[1]\n",
    "\n",
    "# List all urls\n",
    "urls = re.findall('http[s]?://(?:[a-zA-Z]|[0-9]|[$-_@.&+]|(?:%[0-9a-fA-F][0-9a-fA-F]))+', OnePost)\n",
    "\n",
    "# Remove urls\n",
    "temp = re.sub('http[s]?://(?:[a-zA-Z]|[0-9]|[$-_@.&+]|(?:%[0-9a-fA-F][0-9a-fA-F]))+', 'link', OnePost)\n",
    "\n",
    "# Keep only words\n",
    "temp = re.sub(\"[^a-zA-Z]\", \" \", temp)\n",
    "\n",
    "# Remove spaces > 1\n",
    "temp = re.sub(' +', ' ', temp).lower()\n",
    "\n",
    "# Remove stopwords and lematize\n",
    "%time stemmer.stem(\" \".join([w for w in temp.split(' ') if w not in cachedStopWords]))\n",
    "\n",
    "print(\"\\nBefore preprocessing:\\n\\n\", OnePost[0:500])\n",
    "print(\"\\nAfter preprocessing:\\n\\n\", temp[0:500])\n",
    "print(\"\\nList of urls:\")\n",
    "urls"
   ]
  },
  {
   "cell_type": "markdown",
   "metadata": {
    "_cell_guid": "7902b557-a441-4524-8e10-8b7c463b8c5a",
    "_uuid": "b6d6b98ad50f4590bb790f31ab275ac3eab7c169"
   },
   "source": [
    "### Preprocessing comments\n",
    "\n",
    "* Replace urls with a dummy word: \"link\"\n",
    "* Keep only words and put everything lowercase\n",
    "* Lemmatize each word \n"
   ]
  },
  {
   "cell_type": "code",
   "execution_count": 12,
   "metadata": {
    "_cell_guid": "733a2aed-6588-4948-9736-4efa07188943",
    "_uuid": "3bd6a4ff38bbe36b4f80b92d66c67cf9d8acce02"
   },
   "outputs": [
    {
     "name": "stdout",
     "output_type": "stream",
     "text": [
      "500 | 8675 rows\n",
      "1000 | 8675 rows\n",
      "1500 | 8675 rows\n",
      "2000 | 8675 rows\n",
      "2500 | 8675 rows\n",
      "3000 | 8675 rows\n",
      "3500 | 8675 rows\n",
      "4000 | 8675 rows\n",
      "4500 | 8675 rows\n",
      "5000 | 8675 rows\n",
      "5500 | 8675 rows\n",
      "6000 | 8675 rows\n",
      "6500 | 8675 rows\n",
      "7000 | 8675 rows\n",
      "7500 | 8675 rows\n",
      "8000 | 8675 rows\n",
      "8500 | 8675 rows\n"
     ]
    }
   ],
   "source": [
    "##### Compute list of subject with Type | list of comments \n",
    "from nltk.stem import PorterStemmer, WordNetLemmatizer\n",
    "\n",
    "# Lemmatize\n",
    "stemmer = PorterStemmer()\n",
    "lemmatiser = WordNetLemmatizer()\n",
    "\n",
    "def pre_process_data(data, remove_stop_words=True):\n",
    "\n",
    "    list_personality = []\n",
    "    list_posts = []\n",
    "    len_data = len(data)\n",
    "    i=0\n",
    "    \n",
    "    for row in data.iterrows():\n",
    "        i+=1\n",
    "        if i % 500 == 0:\n",
    "            print(\"%s | %s rows\" % (i, len_data))\n",
    "\n",
    "        ##### Remove and clean comments\n",
    "        posts = row[1].posts\n",
    "        temp = re.sub('http[s]?://(?:[a-zA-Z]|[0-9]|[$-_@.&+]|(?:%[0-9a-fA-F][0-9a-fA-F]))+', '', posts)\n",
    "        temp = re.sub(\"[^a-zA-Z]\", \" \", temp)\n",
    "        temp = re.sub(' +', ' ', temp).lower()\n",
    "        if remove_stop_words:\n",
    "            temp = \" \".join([lemmatiser.lemmatize(w) for w in temp.split(' ') if w not in cachedStopWords])\n",
    "        else:\n",
    "            temp = \" \".join([lemmatiser.lemmatize(w) for w in temp.split(' ')])\n",
    "\n",
    "        type_labelized = lab_encoder.transform([row[1].type])[0]\n",
    "        list_personality.append(type_labelized)\n",
    "        list_posts.append(temp)\n",
    "\n",
    "    #del data\n",
    "    list_posts = np.array(list_posts)\n",
    "    list_personality = np.array(list_personality)\n",
    "    return list_posts, list_personality\n",
    "\n",
    "list_posts, list_personality = pre_process_data(data, remove_stop_words=True)"
   ]
  },
  {
   "cell_type": "code",
   "execution_count": 13,
   "metadata": {},
   "outputs": [
    {
     "data": {
      "text/plain": [
       "array([' enfp intj moment sportscenter top ten play prank life changing experience life repeat today may perc experience immerse last thing infj friend posted facebook committing suicide next day rest peace hello enfj sorry hear distress natural relationship perfection time every moment existence try figure hard time time growth welcome stuff game set match prozac wellbrutin least thirty minute moving leg mean moving sitting desk chair weed moderation maybe try edible healthier alternative basically come three item determined type whichever type want would likely use given type cognitive function whatnot left thing moderation sims indeed video game good one note good one somewhat subjective completely promoting death given sim dear enfp favorite video game growing current favorite video game cool appears late sad someone everyone wait thought confidence good thing cherish time solitude b c revel within inner world whereas time workin enjoy time worry people always around yo entp lady complimentary personality well hey main social outlet xbox live conversation even verbally fatigue quickly really dig part banned thread requires get high backyard roast eat marshmellows backyard conversing something intellectual followed massage kiss banned many b sentence could think b banned watching movie corner dunce banned health class clearly taught nothing peer pressure banned whole host reason two baby deer left right munching beetle middle using blood two caveman diary today latest happening designated cave diary wall see pokemon world infj society everyone becomes optimist artist artist draw idea count forming something like signature welcome robot rank person downed self esteem cuz avid signature artist like proud banned taking room bed ya gotta learn share roach banned much thundering grumbling kind storm yep ahh old high school music heard age failed public speaking class year ago sort learned could better position big part failure overloading like person mentality confirmed intj way move denver area start new life ',\n",
       "       ' finding lack post alarming sex boring position often example girlfriend currently environment creatively use cowgirl missionary enough giving new meaning game theory hello entp grin take converse flirting acknowledge presence return word smooth wordplay cheeky grin lack balance hand eye coordination real iq test score internet iq test funny score higher like former response thread mention believe iq test banish know entp vanish site year half return find people still commenting post liking idea thought know entp think thing sometimes go old sherlock holmes quote perhaps man special knowledge special power like rather encourages seek complex cheshirewolf tumblr com post really never thought e j p real function judge use use ne ti dominates fe emotion rarely si also use ni due strength know though ingenious saying really want try see happens playing first person shooter back drive around want see look rock paper one best make lol guy lucky really high tumblr system hear new first person shooter game rocking hell soundtrack auto sound equipment shake heaven managed put couple p way connected thing ne ne dominates aware environment se dominates example shawn spencer patrick jane entps well charlie first admit get jealous like chalk w heart mixed dominate w like noticed like known upload clip mic away mouth hear anything ninja assassin style splatter tik tok really great song long mental block singer love beat make bounce drop io v swck mic really close mouth smokin ace assassin ball playing background sociable extrovert extrovert sociable sherlock movie entp normally played extj book estj said movie looked good except called sherlock holmes oh never fear kissing guy kiss animal nothing vanish personal taste liking guy kissed know one sound pretty much like area going right trying figure way want take life want many thing biggest problem know operating impression female never looked boxy okay help gay friend time one developed little crush get red described living worst nightmare trapped one place one one around dull wood serial killer would perfect place sadly tbh biased sound like shadowed infp think maybe hurt turned estj tell typical infp trait left check list sorry seems came bad time already reached quota infjs however female like female make deal kick one antp leaning toward e easy entps intps identify also imagine entp interrogation would go little bit like jack except mechanical rigging shock treatment equipment abandoned building old car batty jumper compliment trust psychopathic except emoticon weird one like laughing get hurt people running lawn mower like theme live know heart usual leave thing end mean time time work thing work mine mbp pleasure meet damn need trust instinct would closer going say infp exfp leaning toward way responded friend even gay lesbian one always come advice bow entp master entps great entps able build building duck duck duck shotgun never hard sad losing someone like knew right give big pat back awesome always correct oh tell stupid know play make laugh going take neuropsychology psychologist nightowl wake pm stay awake till personal opinion backed theory would suggest intps socially difficult intjs socially indifferent also use social situation need arises personal stock desktop downloaded random stock site stock photobuckets tell open photoshop glad like static thanks made friend several hour work constructed every line static get avatar later one fellow teammate psychologist keep around long enough diagnosis like toy diagnosis psychologist friend friend tell ',\n",
       "       ' good one course say know blessing curse absolutely positive best friend could amazing couple count yes could madly love case reconciled feeling thank link called ti si loop stem current topic obsession deadly like stuck thought mind wanders circle feel truly terrible noticed peculiar vegetation look grass dozen different plant specie imagine hundred year later soil smith never one ever often find spotting face marble tile wood year old sentence incredibly accurate beautiful description visited website last year whoever read maybe even remembers highly doubt hi sit garden pm writing song sing together dozen cricket playing acoustic guitar intp ish thread ever seen able look painting entire life knew picked human drawing background animation working right mar felt obligated make mark watneyx postcard read book started make comic turtle gordon unicorn chime see two first story intj recently started post comic two friend turtle gordon unicorn chime posted stuff interested try include work probably could work together new model expert abrupt explosion laughter upon various weird stuff happens peculiar sense humor peculiar much hellooo nah touch everyone think scared sad true fact absolutely neutral face kitten actually really like patting hug well kind already mentioned sometimes ni hard convey complex stuff pop head whimsical compilation shape picture word think kitten would appropriate good night everyone even someone morning right night always supersede morning people say good night order meet next day oh movie awesome thank hope good sleep air anyway wishing good night next night ahead hopefully land good people deserve good well people may wondering issue name topic find response helpful anyway finally someone mentioned still see creature face maze various random pattern amusing sometimes handy skill bored oh know pity sacrifice whole supermarket decide walmart best think biggest one would great yippy go think fire delicious sacrifice tofu like waste food think creator thread care going year heh understand given language yes adventure time get angry quite rarely safer surrounding people go somewhere else impossible hide suppress anger way get rid feeling burst never liked anything fake bad actually hug given chosen one chosen quite though yup right course comfortable human race survived thankfully woman ability give birth human being worked thousand year change besides happens occurs often people use result extremely precise elaborate online test basis determining one type visual language art study graphic design really enjoy interesting field ability generate idea solve problem much important possession specific alexxxandra deviantart always ready discipline intimidate precise sibling offender world domination shooting people head oh right intjs always must characterised word want show badly reaction istp ',\n",
       "       ...,\n",
       "       ' many question thing would take purple pill pick winning lottery number whatever want worked brewery couple year dont know familiar local micros craft mill st name tankhouse favorite anything local going summon great powerful mr cafebot song destruction four horseman ride count day people earth intro nick intp male basement thread obviously textbook definition manliness ruffin tuffin going hard mother fking paint stand asked time approved say oh shit short staffed badger figure asked arn lol excellent thread nt dc love watching baseball playing oh hate yankee multiple partner consider manly man lift intp thing relationship spend little time bedroom compared everything else dumb blonde make happy minute night going take thinking man plant fruit tree give food year feeling year later squirrel hungry eats fruit tree intuitive man see well think appreciate einstein quote everyone genius judge fish abiility climb tree live whole life believing stupid everybody vsauce real men write poetry oh mountain dew release mountain flavored doritos locos taco skateboard also check still two thing certain rusell brand heavilly extraverted magical man people badger gonna make male version intp video today creative process intps getting around thing putting think always ready work provided sleep food stomach may look busy hear everything guy like making video love part hey man life try yes know intp conversation head real people tl dr yes posted spoken like true intp really bothered believe think tell boyfriend said morality invariably get talking philosophy tangable answer good subject include evolution hunter gatherer society political system good movie hey b th read post immediate reaction boyfriend flipping something insignificant trust issue nothing wag finger think idea enjoy darkbarlow post crush ya maybe self defense really crime would kill somebody save people million dollar thirty year later could come conclusion woman indisputably better men gentler affectionate loving compassionate rarely really make clear cut method differentiating two intp lazy useless thing reason often disastrous result basically lack thing make using adblocker p ask analytical type tell want see le advertising help better hahahaha mango thread chameleon skill thing mirror mood personality others chameleon skill make wonder true free human without either well know sure wrong exist obviously prove problem first word post watching news tv news entertainment journalism resent thought human nothing selfish creature selfless accomplished whim fulfillment life often come form giving others solfonny yup basically lol suicide permanent solution non permanent problem selfish cause pain burden family rest life thinking could considered lol woman easy seriously day every intp adderal would live utopia noon repeat mantra self aware reject idea come god camus declares human exist nothing change choice get pissed give revolt fact absurd man without negating nothing eternal nostalgia foreign prefers courage reasoning first teach need elbow past people hurry potentially miss train door closing otherwise want first train bus get stuck behind crowd slow walker loaded question still strongly believing non belief internet police restrain trolling intp ',\n",
       "       ' conflicted right come wanting child honestly maternal instinct whatsoever recently none close friend child guess closest friend isfj esfp istj xnfp esfj know correct know know type actually xnfp said last paragraph teacher frustrates trend education combine class contain variety type student say much trouble community general mean talking age peer never considered popular artsy extracurricular eat meat feel guilty vaguely considered eating meat think could actually nutritional requirement need high protein diet well boat except teach science theater know people think science infp find interesting good another career exactly god truly created one man one woman technically created woman man product incest per book stayed list going around facebook choice following special order reader bernhard schlink interpreter malady jhumpa amazing list partially posting sure find need idea listen list long others pretty another point infp type known idealist heard theory procrastination say come person setting high standard mind ideal perhaps well bit impulse control feeling calm one else going feel calm cute think stereotype think eleanor roosevelt may infp google classified enfp read biography actually seems like introvert forced know much subtypes wow definitely teacher first time read thought yeah way reading carefully second time almost perfectly list interest hobby generally like read lot tell later though sometimes work get busy also enjoy writing come burst go well help gay thing sorry however commiserate part waiting someone text back feeling like power oh wow totally situation right treated poorly opposite problem seem find courage stand ground think cry much mom think pretty sure think clinically depressed even though mean pretty sure cry bit lol well feel dumb work see thanks alcohol actually change base personality easy change mbti valid alcohol make say thing would absent site couple month since back couple week ago whenever try create thread like right reply thread unable create new also sorry huge long single paragraph reason window let create new paragraph attempting fix eggsies thanks reply perspective cheating thing interesting never really thought way especially beginning perhaps make good point infp forum conversation like getting gift agreed lot thing however terrible gift giver anyone different taste always good math never enjoyed math fair slightly f opposed function also say math methodical ok mr enfj conundrum dating enfj since january busy schedule able spend little time love bike use one recreation actual transportation might bike weekend evening errand weather nice except right live steep hill never make clinically diagnosed adhd reading extensively talking mom behavior kid found wanted take psychologist dad yoga clothes tight black capri pink purple tank tear movie sometimes generally cry hard exception movie version book read like harry potter believe two hour usually unfortunately kind read lot book fiction working night circus erin morgenstern almost done dovekeepers alice hoffman also reading little ambivalent book made movie many favorite book literary enough movie version would atrocious couple agree finish dark could read point without replying may physically alone someone hearing posted thread fear may belong curiosity someone desperately wanted meet need know would tell person would even know ask well never read book seen loosely based movie see saying thought fully convinced case greatly appreciate input boxerkitty said enfjs need socialize wide set people time unwind make feel somewhat better one thing would love person choose spend life assuming find someone choose spend life similar point made completely agreed madrabbit exception pursuing answer never find possibly exist go cycle get frustrated give decide stop yeah hear know really complicated wish seems way mind one entirely know bring without using word marriage know sure enfj seems far likely thought post advice enfjs difficulty relationship something bugging week thought would post people seem get think thing way seeing original post title anything go totally relate almost posted similar thread able trust relationship day ago desire control others kind freak feel like control feeling situation let explain desire tell someone else others mentioned feel really guilty spend lot money spa type thing feel like could putting somewhere useful especially since make ton sad angry pathetic embarrassed love oh definitely definitely stem combination number thing occurred life biggest overall factor form attachment incredibly easy seems really hoping since referred break letter long distance relationship seriously even face person tell feel honestly see point saying letter like change imagine anyone said voted intp closer e ok thing sort issue test took quiz got entertainer one think really type reason describe two yeah definitely get jealous come romantic relationship honest many serious romantic relationship part reason though certainly wait leafstone third volume q book originally split japanese another language spent entire week beach book finish finished since ',\n",
       "       ' long since personalitycafe although seem changed one bit must say good back somewhere like usually turn doctor overwhelmed world around one dream chased large shadowy creature someone else felt save else dream ended reached safety happened well avatar doctor clockwork creature always liked monster worker trying job kind st thanks reply appreciate help get nd think everyone right opinion however many people abuse right p yea iron man thing xd thanks advice everyone thanks think needed humour might show maybe know anything harsh like throw beat although place go really really know judge personality type say mum introverted dad extroverted p ok understand want feel liking men good problem tell parent want tell really know say contempt always suppose spent afternoon buried book world spending morning animal suppose good mix whats hardest thing going face life got clue current perspective telling parent gay seems like huge hurdle suspect seem mi torchwood oh fictional oh well still got book two day ago read thought brilliant true family love never wanted deeply understand contempt keeping deeper self different people see look understand knowing important much know also happy let anything get lately feel better either guess watching comedy central incredible song thanks reply relate part least big deal may made reply pointing well something along line feel although ever entered state mind time need emotion sake sometimes think young time live life find parent never happy effort give anything say used quite lazy lately tried best everything ask without hassle hey spoiler button still pre load image matter best driver currently hold restricted licence drive safely tell parent speed open road one around let someone tell belief wrong think right true people may agree make belief wrong mean midnight blue question many thing feel contrasting may see dark shade blue fact story behind every line magnificent fine ad make website know sometimes need reccomendation though make open new window clicked target top yes want people understand people anyway think matter could understand many people care really fully interested know infjs idea letting people life keeping distance personaly people let world let one bothered personally actually sometimes actually think realize obvious others might feel see good someone hang around happens chance notice accident good disappearing want see library walk somewhere remote alone agree although black white person outside anyway website need colour bright black help defiantly night person doubt enjoy late sleeping half day away say lost balance knew exactly feel say similar place right lost thing really keep going balance world spinning look good think top navigation bar news would look better darker colour white seems bright would tenth way actually capt jack going say doctor thought second thing seemed appropriate apart tardis would get car drive stopping enjoy thanks solitude right like constructive criticism something work improve guess upset little feel people criticize work something whenever someone tell something done good enough make feel like good enough maybe yes owner lonely heart doctor fan say repeated memory wipe silence eventually fry brain eleventh doctor remember people currently reading white wolf son good read quite expected picked finish soon next want read wolf gift tonight sit outside window blackness night staring wilderness call space peace beauty could stay till morning light thousand sun stare upon going close facebook month back well wanting able message family ausse school friend found connected website second mar collection seems fitting mood right seen agree actually think first time watched movie beginning got power kinda thought andrew would never work right ok watched underworld awakening must say really good film compared film last month anyway think good first would never want turn emotion sometimes hide world still need '],\n",
       "      dtype='<U6423')"
      ]
     },
     "execution_count": 13,
     "metadata": {},
     "output_type": "execute_result"
    }
   ],
   "source": [
    "list_posts"
   ]
  },
  {
   "cell_type": "markdown",
   "metadata": {
    "_cell_guid": "5935f4ca-6d8d-40ae-850c-fd4409968fd8",
    "_uuid": "50c7d4b18f04b6868bc235b5ef0ac6d5a2d22032"
   },
   "source": [
    "### Vectorize with count and tf-idf\n",
    "\n",
    "I kept the words appearing in 10 to 50% of the posts. "
   ]
  },
  {
   "cell_type": "code",
   "execution_count": 14,
   "metadata": {
    "_cell_guid": "ea8bb4b1-0f28-4642-924d-4379c778abbf",
    "_uuid": "fa17dad79c85809225b1ae29b18a3a1501a3f574"
   },
   "outputs": [
    {
     "name": "stdout",
     "output_type": "stream",
     "text": [
      "CountVectorizer\n",
      "Tf-idf\n"
     ]
    }
   ],
   "source": [
    "from sklearn.feature_extraction.text import TfidfTransformer\n",
    "from sklearn.feature_extraction.text import CountVectorizer\n",
    "\n",
    "cntizer = CountVectorizer(analyzer=\"word\", \n",
    "                             max_features=1500, \n",
    "                             tokenizer=None,    \n",
    "                             preprocessor=None, \n",
    "                             stop_words=None,  \n",
    "#                             ngram_range=(1,1),\n",
    "                             max_df=0.5,\n",
    "                             min_df=0.1) \n",
    "                                 \n",
    "tfizer = TfidfTransformer()\n",
    "\n",
    "print(\"CountVectorizer\")\n",
    "X_cnt = cntizer.fit_transform(list_posts)\n",
    "print(\"Tf-idf\")\n",
    "X_tfidf =  tfizer.fit_transform(X_cnt).toarray()"
   ]
  },
  {
   "cell_type": "code",
   "execution_count": 15,
   "metadata": {},
   "outputs": [
    {
     "data": {
      "text/plain": [
       "(8675, 754)"
      ]
     },
     "execution_count": 15,
     "metadata": {},
     "output_type": "execute_result"
    }
   ],
   "source": [
    "X_tfidf.shape"
   ]
  },
  {
   "cell_type": "code",
   "execution_count": 16,
   "metadata": {
    "_cell_guid": "4563d9df-3c32-45fb-ac64-103f22aae383",
    "_uuid": "763745c5bf4ccac6aa8c84cb937fb928ce8df647"
   },
   "outputs": [
    {
     "data": {
      "text/plain": [
       "' enfp intj moment sportscenter top ten play prank life changing experience life repeat today may perc experience immerse last thing infj friend posted facebook committing suicide next day rest peace hello enfj sorry hear distress natural relationship perfection time every moment existence try figure hard time time growth welcome stuff game set match prozac wellbrutin least thirty minute moving leg mean moving sitting desk chair weed moderation maybe try edible healthier alternative basically come three item determined type whichever type want would likely use given type cognitive function whatnot left thing moderation sims indeed video game good one note good one somewhat subjective completely promoting death given sim dear enfp favorite video game growing current favorite video game cool appears late sad someone everyone wait thought confidence good thing cherish time solitude b c revel within inner world whereas time workin enjoy time worry people always around yo entp lady complimentary personality well hey main social outlet xbox live conversation even verbally fatigue quickly really dig part banned thread requires get high backyard roast eat marshmellows backyard conversing something intellectual followed massage kiss banned many b sentence could think b banned watching movie corner dunce banned health class clearly taught nothing peer pressure banned whole host reason two baby deer left right munching beetle middle using blood two caveman diary today latest happening designated cave diary wall see pokemon world infj society everyone becomes optimist artist artist draw idea count forming something like signature welcome robot rank person downed self esteem cuz avid signature artist like proud banned taking room bed ya gotta learn share roach banned much thundering grumbling kind storm yep ahh old high school music heard age failed public speaking class year ago sort learned could better position big part failure overloading like person mentality confirmed intj way move denver area start new life '"
      ]
     },
     "execution_count": 16,
     "metadata": {},
     "output_type": "execute_result"
    }
   ],
   "source": [
    "list_posts[0]"
   ]
  },
  {
   "cell_type": "markdown",
   "metadata": {
    "_cell_guid": "100f2063-efe5-448c-809a-2ead70190381",
    "_uuid": "f02c5786ce7714a179721417e0463117ea23d1e7"
   },
   "source": [
    "### Count the top 50 words of the count vectorizer"
   ]
  },
  {
   "cell_type": "code",
   "execution_count": 17,
   "metadata": {
    "_cell_guid": "ec9b2fa7-da8e-4eea-ac73-e898f9be3943",
    "_uuid": "36e4d1703e964eb0d8f76e8547e4a6a7c21ad6af"
   },
   "outputs": [],
   "source": [
    "reverse_dic = {}\n",
    "for key in cntizer.vocabulary_:\n",
    "    reverse_dic[cntizer.vocabulary_[key]] = key"
   ]
  },
  {
   "cell_type": "code",
   "execution_count": 18,
   "metadata": {
    "_cell_guid": "72ddbfca-a4e4-4506-8474-4345767b9e39",
    "_uuid": "7d7c435788ba0b86ddbcbebbd51daf3431ca2f67",
    "scrolled": true
   },
   "outputs": [
    {
     "data": {
      "text/plain": [
       "['infp',\n",
       " 'infj',\n",
       " 'intj',\n",
       " 'intp',\n",
       " 'relationship',\n",
       " 'lol',\n",
       " 'enfp',\n",
       " 'yeah',\n",
       " 'thanks',\n",
       " 'oh',\n",
       " 'bit',\n",
       " 'may',\n",
       " 'entp',\n",
       " 'agree',\n",
       " 'quite',\n",
       " 'guess',\n",
       " 'talk',\n",
       " 'school',\n",
       " 'great',\n",
       " 'thank',\n",
       " 'personality',\n",
       " 'use',\n",
       " 'function',\n",
       " 'bad',\n",
       " 'everything',\n",
       " 'interesting',\n",
       " 'believe',\n",
       " 'definitely',\n",
       " 'happy',\n",
       " 'reason',\n",
       " 'part',\n",
       " 'used',\n",
       " 'often',\n",
       " 'seem',\n",
       " 'experience',\n",
       " 'last',\n",
       " 'word',\n",
       " 'anyone',\n",
       " 'test',\n",
       " 'keep',\n",
       " 'hate',\n",
       " 'another',\n",
       " 'girl',\n",
       " 'forum',\n",
       " 'enough',\n",
       " 'put',\n",
       " 'else',\n",
       " 'care',\n",
       " 'talking',\n",
       " 'getting']"
      ]
     },
     "execution_count": 18,
     "metadata": {},
     "output_type": "execute_result"
    }
   ],
   "source": [
    "top_50 = np.asarray(np.argsort(np.sum(X_cnt, axis=0))[0,-50:][0, ::-1]).flatten()\n",
    "[reverse_dic[v] for v in top_50]"
   ]
  },
  {
   "cell_type": "markdown",
   "metadata": {
    "_cell_guid": "4f208b76-82df-4383-b6b7-4afb86e75e6c",
    "_uuid": "2aeddf0e1517e02d0b0c4bbe49e518baaa3772f6"
   },
   "source": [
    "The 4 top words are actually some mbti profiles... This is strange!\n",
    "\n",
    "Lets try dimensionality reduction:"
   ]
  },
  {
   "cell_type": "markdown",
   "metadata": {},
   "source": [
    "LSA 하는 부분"
   ]
  },
  {
   "cell_type": "code",
   "execution_count": 19,
   "metadata": {},
   "outputs": [
    {
     "name": "stdout",
     "output_type": "stream",
     "text": [
      "[[0.   0.   0.   ... 0.   0.   0.  ]\n",
      " [0.   0.05 0.   ... 0.   0.   0.  ]\n",
      " [0.16 0.06 0.14 ... 0.   0.   0.  ]\n",
      " ...\n",
      " [0.   0.   0.   ... 0.   0.   0.  ]\n",
      " [0.   0.07 0.   ... 0.   0.   0.  ]\n",
      " [0.   0.05 0.   ... 0.   0.06 0.  ]]\n"
     ]
    },
    {
     "data": {
      "text/plain": [
       "(8675, 754)"
      ]
     },
     "execution_count": 19,
     "metadata": {},
     "output_type": "execute_result"
    }
   ],
   "source": [
    "print(np.around(X_tfidf, 2))\n",
    "X_tfidf.shape"
   ]
  },
  {
   "cell_type": "code",
   "execution_count": 20,
   "metadata": {
    "_cell_guid": "8a707754-fe83-49f4-b561-99942bab5e3f",
    "_uuid": "11b23e9d54343717bcf6fe9da77b9aa90f46f8aa"
   },
   "outputs": [],
   "source": [
    "from sklearn.decomposition import TruncatedSVD\n",
    "# Truncated SVD\n",
    "svd = TruncatedSVD(n_components=12, n_iter=7, random_state=42)\n",
    "svd_vec = svd.fit_transform(X_tfidf)"
   ]
  },
  {
   "cell_type": "code",
   "execution_count": 21,
   "metadata": {},
   "outputs": [
    {
     "name": "stdout",
     "output_type": "stream",
     "text": [
      "[[ 0.38 -0.03 -0.02 ... -0.15  0.06 -0.12]\n",
      " [ 0.42  0.12 -0.03 ...  0.16  0.19 -0.15]\n",
      " [ 0.38 -0.07 -0.07 ... -0.04 -0.04 -0.03]\n",
      " ...\n",
      " [ 0.39 -0.09 -0.04 ...  0.21 -0.15  0.04]\n",
      " [ 0.49 -0.06 -0.04 ...  0.01  0.02  0.06]\n",
      " [ 0.42 -0.16 -0.05 ... -0.02 -0.01  0.  ]]\n"
     ]
    },
    {
     "data": {
      "text/plain": [
       "(8675, 12)"
      ]
     },
     "execution_count": 21,
     "metadata": {},
     "output_type": "execute_result"
    }
   ],
   "source": [
    "print(np.around(svd_vec, 2))\n",
    "svd_vec.shape"
   ]
  },
  {
   "cell_type": "markdown",
   "metadata": {
    "_cell_guid": "44215420-71e0-4626-96b5-67a99322ee28",
    "_uuid": "4e617fa8a27d8fa54e46fd86b600cd3e20fa7b30"
   },
   "source": [
    "### Plot first axes of decomposition"
   ]
  },
  {
   "cell_type": "code",
   "execution_count": 22,
   "metadata": {
    "_cell_guid": "a50fbe38-2d0a-47c6-a5b5-35eaa63a41c4",
    "_uuid": "8c8829e9ed4a36eba9cb87774b71d5cacabca9cd",
    "scrolled": true
   },
   "outputs": [],
   "source": [
    "from sklearn.decomposition import KernelPCA, FastICA, PCA\n",
    "from sklearn.preprocessing import StandardScaler\n",
    "\n",
    "# PCA\n",
    "pca_vec = PCA(n_components=12).fit_transform(X_tfidf)\n",
    "\n",
    "# ICA\n",
    "ica_vec = FastICA(n_components=12).fit_transform(X_tfidf)\n"
   ]
  },
  {
   "cell_type": "code",
   "execution_count": 23,
   "metadata": {},
   "outputs": [
    {
     "name": "stdout",
     "output_type": "stream",
     "text": [
      "[[-0.03 -0.01 -0.06 ...  0.05 -0.1  -0.08]\n",
      " [ 0.12 -0.03  0.07 ...  0.2  -0.15  0.06]\n",
      " [-0.07 -0.06  0.03 ... -0.04 -0.03 -0.04]\n",
      " ...\n",
      " [-0.09 -0.02  0.18 ... -0.14  0.03  0.07]\n",
      " [-0.05 -0.06 -0.06 ...  0.02  0.06 -0.01]\n",
      " [-0.15 -0.05 -0.02 ... -0.01  0.   -0.05]]\n"
     ]
    },
    {
     "data": {
      "text/plain": [
       "(8675, 12)"
      ]
     },
     "execution_count": 23,
     "metadata": {},
     "output_type": "execute_result"
    }
   ],
   "source": [
    "print(np.around(pca_vec, 2))\n",
    "pca_vec.shape"
   ]
  },
  {
   "cell_type": "code",
   "execution_count": 24,
   "metadata": {},
   "outputs": [
    {
     "name": "stdout",
     "output_type": "stream",
     "text": [
      "[[-0.02  0.   -0.01 ... -0.   -0.01  0.01]\n",
      " [ 0.    0.01  0.   ... -0.    0.01  0.  ]\n",
      " [-0.    0.    0.   ... -0.   -0.01  0.  ]\n",
      " ...\n",
      " [ 0.   -0.01  0.01 ...  0.   -0.   -0.02]\n",
      " [ 0.01 -0.01  0.01 ... -0.    0.01  0.01]\n",
      " [ 0.   -0.    0.   ... -0.   -0.    0.  ]]\n"
     ]
    },
    {
     "data": {
      "text/plain": [
       "(8675, 12)"
      ]
     },
     "execution_count": 24,
     "metadata": {},
     "output_type": "execute_result"
    }
   ],
   "source": [
    "print(np.around(ica_vec, 2))\n",
    "ica_vec.shape"
   ]
  },
  {
   "cell_type": "markdown",
   "metadata": {
    "_cell_guid": "26355d5e-3a87-40e1-9b23-819bf8d7c2ec",
    "_uuid": "5c216341ece64a8c745a8ca68dfd06fdd9dd9d28"
   },
   "source": [
    "#### Plot tsne for each pair of letter:\n",
    "\n",
    "* Extraversion (E) - Introversion (I)\n",
    "* Sensation (S) - INtuition (N)\n",
    "* Thinking (T) - Feeling (F)\n",
    "* Judgement (J) - Perception (P)"
   ]
  },
  {
   "cell_type": "code",
   "execution_count": 25,
   "metadata": {
    "_cell_guid": "18197bbd-5016-4833-a3cd-e6f45605d30d",
    "_uuid": "85b5d10a691364b224656410220df047b386874c",
    "scrolled": false
   },
   "outputs": [
    {
     "name": "stdout",
     "output_type": "stream",
     "text": [
      "Binarize MBTI list: \n",
      "[[0 0 0 0]\n",
      " [1 0 1 1]\n",
      " [0 0 1 1]\n",
      " ...\n",
      " [0 0 1 1]\n",
      " [0 0 0 1]\n",
      " [0 0 0 1]]\n"
     ]
    },
    {
     "data": {
      "text/plain": [
       "(8675, 4)"
      ]
     },
     "execution_count": 25,
     "metadata": {},
     "output_type": "execute_result"
    }
   ],
   "source": [
    "# Split mbti personality into 4 letters and binarize\n",
    "titles = [\"Extraversion (E) - Introversion (I)\",\n",
    "          \"Sensation (S) - INtuition (N)\",\n",
    "          \"Thinking (T) - Feeling (F)\",\n",
    "          \"Judgement (J) - Perception (P)\"\n",
    "         ] \n",
    "b_Pers = {'I':0, 'E':1, 'N':0, 'S':1, 'F':0, 'T':1, 'J':0, 'P':1}\n",
    "b_Pers_list = [{0:'I', 1:'E'}, {0:'N', 1:'S'}, {0:'F', 1:'T'}, {0:'J', 1:'P'}]\n",
    "\n",
    "def translate_personality(personality):\n",
    "    '''\n",
    "    transform mbti to binary vector\n",
    "    string 성격을 주면 list 성격 코드로 바꿔줌\n",
    "    '''\n",
    "    return [b_Pers[l] for l in personality]\n",
    "\n",
    "def translate_back(personality):\n",
    "    '''\n",
    "    transform binary vector to mbti personality\n",
    "    list 성격 코드를 주면 string 성격으로 바꿔줌\n",
    "    '''\n",
    "    s = \"\"\n",
    "    for i, l in enumerate(personality):\n",
    "        s += b_Pers_list[i][l]\n",
    "    return s\n",
    "\n",
    "list_personality_bin = np.array([translate_personality(p) for p in data.type])\n",
    "print(\"Binarize MBTI list: \\n%s\" % list_personality_bin)\n",
    "list_personality_bin.shape\n",
    "# Plot\n",
    "# tsne 안해!\n",
    "# def plot_tsne(X, i):\n",
    "#     a = plt.figure(i, figsize=(30,20))\n",
    "#     plt.title(titles[i])\n",
    "#     plt.subplot(3,1,1)\n",
    "#     plt.scatter(X[:,0], X[:,1], c=list_personality_bin[:,i], cmap=plt.get_cmap('Dark2'), s=25)\n",
    "#     plt.subplot(3,1,2)\n",
    "#     plt.scatter(X[:,0], X[:,2], c=list_personality_bin[:,i], cmap=plt.get_cmap('Dark2'), s=25)\n",
    "#     plt.subplot(3,1,3)\n",
    "#     plt.scatter(X[:,1], X[:,2], c=list_personality_bin[:,i], cmap=plt.get_cmap('Dark2'), s=25)"
   ]
  },
  {
   "cell_type": "markdown",
   "metadata": {},
   "source": [
    "전체 데이터 셋의 성격코드 label을 np 행렬로 표현"
   ]
  },
  {
   "cell_type": "markdown",
   "metadata": {
    "_cell_guid": "6d842d66-e53e-486d-a10d-c66e3c7f1bce",
    "_uuid": "19399ccc46cefc8b7533471d75ae6b76333bbf38"
   },
   "source": [
    "#### Confusion plot function\n",
    "Confusion plot이 필요한가?"
   ]
  },
  {
   "cell_type": "code",
   "execution_count": 26,
   "metadata": {
    "_cell_guid": "f83939a4-139d-4671-a400-f93b7f049478",
    "_uuid": "f96f3440b4d5e74f11c76e12b3596c820e261c1c"
   },
   "outputs": [],
   "source": [
    "# # Confusion plot\n",
    "# from sklearn.metrics import confusion_matrix\n",
    "# import itertools\n",
    "\n",
    "# def plot_confusion_matrix(cm, classes,\n",
    "#                           normalize=False,\n",
    "#                           title='Confusion matrix',\n",
    "#                           cmap=plt.cm.Blues):\n",
    "#     \"\"\"\n",
    "#     This function prints and plots the confusion matrix.\n",
    "#     \"\"\"\n",
    "#     if normalize:\n",
    "#         cm = cm.astype('float') / cm.sum(axis=1)[:, np.newaxis]\n",
    "#         print(\"Confusion matrix\")\n",
    "#     else:\n",
    "#         print('Confusion matrix, without normalization')\n",
    "    \n",
    "#     plt.imshow(cm, interpolation='nearest', cmap=cmap)\n",
    "#     plt.title(title)\n",
    "#     plt.colorbar()\n",
    "#     tick_marks = np.arange(len(classes))\n",
    "#     plt.xticks(tick_marks, classes, rotation=45)\n",
    "#     plt.yticks(tick_marks, classes)\n",
    "\n",
    "#     plt.tight_layout()\n",
    "#     plt.ylabel('True label')\n",
    "#     plt.xlabel('Predicted label')"
   ]
  },
  {
   "cell_type": "markdown",
   "metadata": {
    "_cell_guid": "f777dbca-1af5-41ca-885d-f866d1d0bfdc",
    "_uuid": "4f3de7448eb2d0f6710d2823c44f7842e3cc2273"
   },
   "source": [
    "### Try multiple sklearn classifiers"
   ]
  },
  {
   "cell_type": "code",
   "execution_count": 27,
   "metadata": {},
   "outputs": [],
   "source": [
    "# !pip install xgboost"
   ]
  },
  {
   "cell_type": "code",
   "execution_count": 62,
   "metadata": {
    "_cell_guid": "61ae0dd4-59ea-4dde-92c4-e7e09358abed",
    "_uuid": "92222f6f57dab9f7bd9135c29d6de9c9e0ad6d50"
   },
   "outputs": [],
   "source": [
    "##### Sklearn classifiers\n",
    "\n",
    "from sklearn.linear_model import SGDClassifier, PassiveAggressiveClassifier\n",
    "from sklearn.svm import LinearSVC, SVC \n",
    "from sklearn.naive_bayes import MultinomialNB\n",
    "from sklearn.ensemble import RandomForestClassifier\n",
    "from sklearn.metrics import classification_report, f1_score\n",
    "from sklearn.feature_extraction.text import TfidfVectorizer, CountVectorizer, TfidfTransformer\n",
    "\n",
    "import xgboost as xgb\n",
    "import pickle\n",
    "\n",
    "# Vectorizer\n",
    "\n",
    "cntizer = CountVectorizer(analyzer=\"word\", \n",
    "                             max_features=1000, \n",
    "                             tokenizer=None,    \n",
    "                             preprocessor=None, \n",
    "                             stop_words=None,   \n",
    "                             max_df=0.5,\n",
    "                             min_df=0.1) \n",
    "\n",
    "tfizer = TfidfTransformer()\n",
    "\n",
    "# Classifiers\n",
    "PassAgg = PassiveAggressiveClassifier(max_iter=50)\n",
    "\n",
    "sgd = SGDClassifier(loss='hinge',   \n",
    "              penalty='l1',   \n",
    "              alpha=1e-2,     \n",
    "              random_state=42,\n",
    "              max_iter=7,     \n",
    "              tol=None)\n",
    "\n",
    "# SVM\n",
    "lsvc = LinearSVC()\n",
    "rbfsvc = SVC(kernel='rbf')\n",
    "# SVM preding 결과 voting을 위한 one-hot encoder\n",
    "OneHotEncoder = lambda x: np.eye(16)[x]\n",
    "\n",
    "    \n",
    "# Multinomial Naive Bayes\n",
    "mlNB = MultinomialNB()\n",
    "\n",
    "# Xgboost \n",
    "# setup parameters for xgboost\n",
    "param = {}\n",
    "# use softmax multi-class classification\n",
    "param['objective'] = 'multi:softprob'\n",
    "# scale weight of positive examples\n",
    "param['eta'] = 0.6\n",
    "param['ntrees'] = 300\n",
    "param['subsample'] = 0.93\n",
    "param['max_depth'] = 2\n",
    "param['silent'] = 1\n",
    "param['n_jobs'] = 8\n",
    "param['num_class'] = len(unique_type_list)\n",
    "# GPU 사용\n",
    "param['gpu_id'] = 0\n",
    "param['tree_method'] = 'gpu_hist'\n",
    "xgb_class = xgb.XGBClassifier(**param)\n"
   ]
  },
  {
   "cell_type": "markdown",
   "metadata": {
    "_cell_guid": "829a1c71-11a5-4373-bdf0-52b30bd47e60",
    "_uuid": "113df75f59d260437089bb76b70484ede6f74fbd"
   },
   "source": [
    "### Stratified K-fold validation training"
   ]
  },
  {
   "cell_type": "code",
   "execution_count": 78,
   "metadata": {},
   "outputs": [
    {
     "name": "stdout",
     "output_type": "stream",
     "text": [
      "<class 'numpy.ndarray'>\n"
     ]
    }
   ],
   "source": [
    "kf = StratifiedShuffleSplit(n_splits=1)\n",
    "\n",
    "X=list_posts\n",
    "y=list_personality\n",
    "for train, test in kf.split(X,y):\n",
    "    X_train, X_test, y_train, y_test = X[train], X[test], y[train], y[test]\n",
    "    X_train = cntizer.fit_transform(X_train)\n",
    "    X_test = cntizer.transform(X_test)\n",
    "model = lsvc\n",
    "model.fit(X_train, y_train)\n",
    "preds = model.predict(X_test)\n",
    "print(type(preds))\n",
    "#                 probs = np.add(probs, vote(preds))\n",
    "preds_train = model.predict(X_train)"
   ]
  },
  {
   "cell_type": "code",
   "execution_count": 137,
   "metadata": {
    "_cell_guid": "f89d9440-a23c-4b0b-9ce4-5548595b5f1e",
    "_uuid": "680baf0d4cac90d2ce061e73e49e27f2154fae7d"
   },
   "outputs": [],
   "source": [
    "# Train with k fold stratified validation\n",
    "\n",
    "from sklearn.model_selection import StratifiedKFold, StratifiedShuffleSplit\n",
    "\n",
    "name = lambda x : str(x).split('(')[0]\n",
    "\n",
    "def train_stratified(models, X, y, tf_idf=False, nsplits=3, confusion=False):\n",
    "    '''\n",
    "    Take a sklearn model like, feature set X, target set y and number of splits to compute Stratified kfold validation.\n",
    "    Args:\n",
    "        X (array):       Numpy array of features.\n",
    "        y (str):         Target - Personality list.\n",
    "        tf_idf (bool):  Wehther to use tf-idf on CountVectorizer.\n",
    "        nsplits(int):    Number of splits for cross validation.\n",
    "        confusion(bool): Wether to plot confusion matrix \n",
    "        \n",
    "    Returns:\n",
    "        dict: Dictionnary of classifiers and their cv f1-score.\n",
    "    '''\n",
    "#     fig_i = 0\n",
    "    kf = StratifiedShuffleSplit(n_splits=nsplits)\n",
    "    \n",
    "    # Store fold score for each classifier in a dictionnary\n",
    "    dict_score = {}\n",
    "    dict_score['merged'] = 0\n",
    "    for model in models:\n",
    "        dict_score[name(model)] = 0\n",
    "    \n",
    "    # Stratified Split\n",
    "    for train, test in kf.split(X,y):\n",
    "        X_train, X_test, y_train, y_test = X[train], X[test], y[train], y[test]\n",
    "        \n",
    "        X_train = cntizer.fit_transform(X_train)\n",
    "        X_test = cntizer.transform(X_test)\n",
    "        \n",
    "        # tf-idf\n",
    "        if tf_idf == True:\n",
    "            '''\n",
    "            Bug! X_train_cnt 정의한 곳이 없음 kaggle 원본코드에도 없음;;\n",
    "                                                    ↓요자식\n",
    "            fix: 원저자는 idf matrix와 idf없는 matrix를 옆으로 붙여서 쓰려고 했던거 같다...\n",
    "                 어찌할지 모르겠어서 떼버리고 tfidf matrix만 사용하도록 수정\n",
    "            '''\n",
    "            X_train_tfidf = tfizer.fit_transform(X_train)#(X_train_cnt)\n",
    "            X_test_tfidf = tfizer.transform(X_test)#(X_test_cnt)\n",
    "        \n",
    "#             X_train = np.column_stack((X_train_tfidf.todense(), X_train))\n",
    "            X_train = X_train_tfidf.toarray()\n",
    "            \n",
    "#             X_test = np.column_stack((X_test_tfidf.todense(), X_test))\n",
    "            X_test = X_test_tfidf.toarray()\n",
    "        \n",
    "        probs = np.ones((len(y_test), 16))\n",
    "        for model in models:\n",
    "            # if xgboost use dmatrix\n",
    "            if 'XGB' in name(model):\n",
    "                xg_train = xgb.DMatrix(X_train, label=y_train)\n",
    "                xg_test = xgb.DMatrix(X_test, label=y_test)\n",
    "                watchlist = [(xg_train, 'train'), (xg_test, 'test')]\n",
    "                num_round = 30\n",
    "                bst = xgb.train(param, xg_train, num_round, watchlist, early_stopping_rounds=6)\n",
    "                preds = bst.predict(xg_test)\n",
    "                probs = np.add(probs, preds)\n",
    "                preds = np.array([np.argmax(prob) for prob in preds])\n",
    "            \n",
    "            # Linear SVM, RBF SVM Classifier\n",
    "            elif 'SVC' in name(model):\n",
    "                \n",
    "#                 #move data to GPU\n",
    "#                 X_train = cp.asarray(X_train)\n",
    "#                 y_train = cp.asarray(y_train)\n",
    "#                 X_test =  cp.asarray(X_test)\n",
    "#                 y_test = cp.asarray(y_test)\n",
    "        \n",
    "                model.fit(X_train, y_train)\n",
    "                preds = model.predict(X_test)                \n",
    "                probs = np.add(probs, OneHotEncoder(preds))\n",
    "                preds_train = model.predict(X_train)\n",
    "                \n",
    "                # SVM은 predict_proba가 없어서 merged score update가 안됨.\n",
    "                # SVM은 안된다...?\n",
    "                \n",
    "            # Multinomial Naive Bayes Classifier\n",
    "            else:\n",
    "                model.fit(X_train, y_train)\n",
    "                preds = model.predict(X_test) \n",
    "                probs = np.add(probs, model.predict_proba(X_test))\n",
    "                \n",
    "            # f1-score\n",
    "            train_score = f1_score(y_train, preds_train, average='weighted')\n",
    "            test_score = f1_score(y_test, preds, average='weighted')\n",
    "            dict_score[name(model)] += test_score\n",
    "            print(f'''{name(model)}\n",
    "            train f1-score:{train_score}\n",
    "            test  f1-score:{test_score}\n",
    "            ''')\n",
    "            \n",
    "            \n",
    "            \"\"\"\n",
    "            Confusion matrix 그리는 부분\n",
    "            \"\"\"\n",
    "#             if confusion == True:\n",
    "#                 # Compute confusion matrix\n",
    "#                 cnf_matrix = confusion_matrix(y_test, preds)\n",
    "#                 np.set_printoptions(precision=2)\n",
    "#                 # Plot confusion matrix\n",
    "#                 plt.figure(fig_i)\n",
    "#                 fig_i += 1\n",
    "#                 plot_confusion_matrix(cnf_matrix, classes=lab_encoder.inverse_transform(range(16)), normalize=True,\n",
    "#                                                           title=('Confusion matrix %s' % name(model)))\n",
    "        \n",
    "        # voting result: sum of class probabilites of each classifier \n",
    "        merged_preds = [np.argmax(prob) for prob in probs]\n",
    "        score = f1_score(y_test, merged_preds, average='weighted')\n",
    "        print(f'Merged score: {score}\\n')\n",
    "        dict_score['merged'] += score\n",
    "        \n",
    "    return {k: v / nsplits for k, v in dict_score.items()}\n",
    "\n"
   ]
  },
  {
   "cell_type": "code",
   "execution_count": 138,
   "metadata": {},
   "outputs": [
    {
     "data": {
      "text/plain": [
       "'LinearSVC'"
      ]
     },
     "execution_count": 138,
     "metadata": {},
     "output_type": "execute_result"
    }
   ],
   "source": [
    "name(lsvc)"
   ]
  },
  {
   "cell_type": "code",
   "execution_count": 139,
   "metadata": {},
   "outputs": [
    {
     "name": "stdout",
     "output_type": "stream",
     "text": [
      "Tue Aug 25 17:48:49 2020       \n",
      "+-----------------------------------------------------------------------------+\n",
      "| NVIDIA-SMI 418.67       Driver Version: 418.67       CUDA Version: 10.1     |\n",
      "|-------------------------------+----------------------+----------------------+\n",
      "| GPU  Name        Persistence-M| Bus-Id        Disp.A | Volatile Uncorr. ECC |\n",
      "| Fan  Temp  Perf  Pwr:Usage/Cap|         Memory-Usage | GPU-Util  Compute M. |\n",
      "|===============================+======================+======================|\n",
      "|   0  Tesla V100-PCIE...  On   | 00000000:00:06.0 Off |                    0 |\n",
      "| N/A   65C    P0   220W / 250W |  27253MiB / 32480MiB |     17%      Default |\n",
      "+-------------------------------+----------------------+----------------------+\n",
      "|   1  Tesla V100-PCIE...  On   | 00000000:00:07.0 Off |                    0 |\n",
      "| N/A   69C    P0   180W / 250W |   4012MiB / 32480MiB |     77%      Default |\n",
      "+-------------------------------+----------------------+----------------------+\n",
      "|   2  Tesla V100-PCIE...  On   | 00000000:00:08.0 Off |                    0 |\n",
      "| N/A   37C    P0    40W / 250W |   3929MiB / 32480MiB |      0%      Default |\n",
      "+-------------------------------+----------------------+----------------------+\n",
      "                                                                               \n",
      "+-----------------------------------------------------------------------------+\n",
      "| Processes:                                                       GPU Memory |\n",
      "|  GPU       PID   Type   Process name                             Usage      |\n",
      "|=============================================================================|\n",
      "|    0      5758      C   /home/ubuntu/anaconda3/bin/python            559MiB |\n",
      "|    0      6003      C   python                                     26679MiB |\n",
      "|    1     13524      C   python                                      4001MiB |\n",
      "|    2     15316      C   python                                      2797MiB |\n",
      "|    2     26380      C   python                                      1121MiB |\n",
      "+-----------------------------------------------------------------------------+\n"
     ]
    }
   ],
   "source": [
    "!nvidia-smi"
   ]
  },
  {
   "cell_type": "code",
   "execution_count": 141,
   "metadata": {
    "_cell_guid": "393632cf-22cf-49b4-97ca-88cb3c6cd2ba",
    "_uuid": "b766aeeede25e41b209e1f6ac8c8499928673e38",
    "collapsed": true
   },
   "outputs": [
    {
     "name": "stdout",
     "output_type": "stream",
     "text": [
      "LinearSVC\n",
      "            train f1-score:0.8232359785815148\n",
      "            test  f1-score:0.6365416927880654\n",
      "            \n",
      "MultinomialNB\n",
      "            train f1-score:0.8232359785815148\n",
      "            test  f1-score:0.40248898487596807\n",
      "            \n",
      "[17:51:07] WARNING: /workspace/src/learner.cc:480: \n",
      "Parameters: { ntrees, silent } might not be used.\n",
      "\n",
      "  This may not be accurate due to some parameters are only used in language bindings but\n",
      "  passed down to XGBoost core.  Or some parameters are not used but slip through this\n",
      "  verification. Please open an issue if you find above cases.\n",
      "\n",
      "\n"
     ]
    },
    {
     "name": "stderr",
     "output_type": "stream",
     "text": [
      "/home/ubuntu/anaconda3/lib/python3.6/site-packages/sklearn/metrics/classification.py:1135: UndefinedMetricWarning: F-score is ill-defined and being set to 0.0 in labels with no predicted samples.\n",
      "  'precision', 'predicted', average, warn_for)\n"
     ]
    },
    {
     "name": "stdout",
     "output_type": "stream",
     "text": [
      "[0]\ttrain-merror:0.39798\ttest-merror:0.38825\n",
      "Multiple eval metrics have been passed: 'test-merror' will be used for early stopping.\n",
      "\n",
      "Will train until test-merror hasn't improved in 6 rounds.\n",
      "[1]\ttrain-merror:0.36160\ttest-merror:0.35945\n",
      "[2]\ttrain-merror:0.34853\ttest-merror:0.36982\n",
      "[3]\ttrain-merror:0.33342\ttest-merror:0.35369\n",
      "[4]\ttrain-merror:0.32906\ttest-merror:0.34447\n",
      "[5]\ttrain-merror:0.31997\ttest-merror:0.34793\n",
      "[6]\ttrain-merror:0.31613\ttest-merror:0.35829\n",
      "[7]\ttrain-merror:0.31177\ttest-merror:0.34793\n",
      "[8]\ttrain-merror:0.30447\ttest-merror:0.35599\n",
      "[9]\ttrain-merror:0.30076\ttest-merror:0.35253\n",
      "[10]\ttrain-merror:0.29589\ttest-merror:0.34793\n",
      "Stopping. Best iteration:\n",
      "[4]\ttrain-merror:0.32906\ttest-merror:0.34447\n",
      "\n",
      "XGBClassifier\n",
      "            train f1-score:0.8232359785815148\n",
      "            test  f1-score:0.6463926961305894\n",
      "            \n",
      "Merged score: 0.6365416927880654\n",
      "\n"
     ]
    },
    {
     "name": "stderr",
     "output_type": "stream",
     "text": [
      "/home/ubuntu/anaconda3/lib/python3.6/site-packages/sklearn/metrics/classification.py:1135: UndefinedMetricWarning: F-score is ill-defined and being set to 0.0 in labels with no predicted samples.\n",
      "  'precision', 'predicted', average, warn_for)\n",
      "/home/ubuntu/anaconda3/lib/python3.6/site-packages/sklearn/metrics/classification.py:1135: UndefinedMetricWarning: F-score is ill-defined and being set to 0.0 in labels with no predicted samples.\n",
      "  'precision', 'predicted', average, warn_for)\n"
     ]
    },
    {
     "name": "stdout",
     "output_type": "stream",
     "text": [
      "LinearSVC\n",
      "            train f1-score:0.819598801460794\n",
      "            test  f1-score:0.6462961680489199\n",
      "            \n",
      "MultinomialNB\n",
      "            train f1-score:0.819598801460794\n",
      "            test  f1-score:0.41360623321810175\n",
      "            \n",
      "[17:51:14] WARNING: /workspace/src/learner.cc:480: \n",
      "Parameters: { ntrees, silent } might not be used.\n",
      "\n",
      "  This may not be accurate due to some parameters are only used in language bindings but\n",
      "  passed down to XGBoost core.  Or some parameters are not used but slip through this\n",
      "  verification. Please open an issue if you find above cases.\n",
      "\n",
      "\n",
      "[0]\ttrain-merror:0.39029\ttest-merror:0.42281\n",
      "Multiple eval metrics have been passed: 'test-merror' will be used for early stopping.\n",
      "\n",
      "Will train until test-merror hasn't improved in 6 rounds.\n",
      "[1]\ttrain-merror:0.35801\ttest-merror:0.39862\n",
      "[2]\ttrain-merror:0.34943\ttest-merror:0.39171\n",
      "[3]\ttrain-merror:0.34034\ttest-merror:0.38479\n",
      "[4]\ttrain-merror:0.33265\ttest-merror:0.37788\n",
      "[5]\ttrain-merror:0.32573\ttest-merror:0.38364\n",
      "[6]\ttrain-merror:0.31971\ttest-merror:0.37097\n",
      "[7]\ttrain-merror:0.31139\ttest-merror:0.37558\n",
      "[8]\ttrain-merror:0.30729\ttest-merror:0.36636\n",
      "[9]\ttrain-merror:0.29935\ttest-merror:0.36175\n",
      "[10]\ttrain-merror:0.29422\ttest-merror:0.36060\n",
      "[11]\ttrain-merror:0.28923\ttest-merror:0.36175\n",
      "[12]\ttrain-merror:0.28436\ttest-merror:0.35369\n",
      "[13]\ttrain-merror:0.27975\ttest-merror:0.35253\n",
      "[14]\ttrain-merror:0.27475\ttest-merror:0.35945\n",
      "[15]\ttrain-merror:0.26860\ttest-merror:0.35714\n",
      "[16]\ttrain-merror:0.26374\ttest-merror:0.35138\n",
      "[17]\ttrain-merror:0.25861\ttest-merror:0.35714\n",
      "[18]\ttrain-merror:0.25388\ttest-merror:0.35369\n",
      "[19]\ttrain-merror:0.25029\ttest-merror:0.35714\n",
      "[20]\ttrain-merror:0.24504\ttest-merror:0.36290\n",
      "[21]\ttrain-merror:0.24068\ttest-merror:0.35599\n",
      "[22]\ttrain-merror:0.23543\ttest-merror:0.35484\n",
      "Stopping. Best iteration:\n",
      "[16]\ttrain-merror:0.26374\ttest-merror:0.35138\n",
      "\n",
      "XGBClassifier\n",
      "            train f1-score:0.819598801460794\n",
      "            test  f1-score:0.6365277760869447\n",
      "            \n",
      "Merged score: 0.6458348649083752\n",
      "\n"
     ]
    },
    {
     "name": "stderr",
     "output_type": "stream",
     "text": [
      "/home/ubuntu/anaconda3/lib/python3.6/site-packages/sklearn/metrics/classification.py:1135: UndefinedMetricWarning: F-score is ill-defined and being set to 0.0 in labels with no predicted samples.\n",
      "  'precision', 'predicted', average, warn_for)\n",
      "/home/ubuntu/anaconda3/lib/python3.6/site-packages/sklearn/metrics/classification.py:1135: UndefinedMetricWarning: F-score is ill-defined and being set to 0.0 in labels with no predicted samples.\n",
      "  'precision', 'predicted', average, warn_for)\n",
      "/home/ubuntu/anaconda3/lib/python3.6/site-packages/sklearn/metrics/classification.py:1135: UndefinedMetricWarning: F-score is ill-defined and being set to 0.0 in labels with no predicted samples.\n",
      "  'precision', 'predicted', average, warn_for)\n",
      "/home/ubuntu/anaconda3/lib/python3.6/site-packages/sklearn/metrics/classification.py:1135: UndefinedMetricWarning: F-score is ill-defined and being set to 0.0 in labels with no predicted samples.\n",
      "  'precision', 'predicted', average, warn_for)\n"
     ]
    },
    {
     "name": "stdout",
     "output_type": "stream",
     "text": [
      "LinearSVC\n",
      "            train f1-score:0.8242115911226668\n",
      "            test  f1-score:0.624983666944259\n",
      "            \n",
      "MultinomialNB\n",
      "            train f1-score:0.8242115911226668\n",
      "            test  f1-score:0.39630475789600833\n",
      "            \n",
      "[17:51:21] WARNING: /workspace/src/learner.cc:480: \n",
      "Parameters: { ntrees, silent } might not be used.\n",
      "\n",
      "  This may not be accurate due to some parameters are only used in language bindings but\n",
      "  passed down to XGBoost core.  Or some parameters are not used but slip through this\n",
      "  verification. Please open an issue if you find above cases.\n",
      "\n",
      "\n",
      "[0]\ttrain-merror:0.39413\ttest-merror:0.41590\n",
      "Multiple eval metrics have been passed: 'test-merror' will be used for early stopping.\n",
      "\n",
      "Will train until test-merror hasn't improved in 6 rounds.\n",
      "[1]\ttrain-merror:0.36813\ttest-merror:0.39862\n",
      "[2]\ttrain-merror:0.34969\ttest-merror:0.38018\n",
      "[3]\ttrain-merror:0.34226\ttest-merror:0.36866\n",
      "[4]\ttrain-merror:0.33086\ttest-merror:0.35829\n",
      "[5]\ttrain-merror:0.32458\ttest-merror:0.35138\n",
      "[6]\ttrain-merror:0.31933\ttest-merror:0.34562\n",
      "[7]\ttrain-merror:0.31292\ttest-merror:0.33525\n",
      "[8]\ttrain-merror:0.30537\ttest-merror:0.33641\n",
      "[9]\ttrain-merror:0.30101\ttest-merror:0.33641\n",
      "[10]\ttrain-merror:0.29422\ttest-merror:0.33756\n",
      "[11]\ttrain-merror:0.28987\ttest-merror:0.32834\n",
      "[12]\ttrain-merror:0.28346\ttest-merror:0.33525\n",
      "[13]\ttrain-merror:0.27591\ttest-merror:0.33871\n",
      "[14]\ttrain-merror:0.27347\ttest-merror:0.33986\n",
      "[15]\ttrain-merror:0.26835\ttest-merror:0.34101\n",
      "[16]\ttrain-merror:0.26207\ttest-merror:0.33986\n",
      "[17]\ttrain-merror:0.25874\ttest-merror:0.33641\n",
      "Stopping. Best iteration:\n",
      "[11]\ttrain-merror:0.28987\ttest-merror:0.32834\n",
      "\n",
      "XGBClassifier\n",
      "            train f1-score:0.8242115911226668\n",
      "            test  f1-score:0.6554506321119757\n",
      "            \n",
      "Merged score: 0.626002249509802\n",
      "\n"
     ]
    },
    {
     "name": "stderr",
     "output_type": "stream",
     "text": [
      "/home/ubuntu/anaconda3/lib/python3.6/site-packages/sklearn/metrics/classification.py:1135: UndefinedMetricWarning: F-score is ill-defined and being set to 0.0 in labels with no predicted samples.\n",
      "  'precision', 'predicted', average, warn_for)\n",
      "/home/ubuntu/anaconda3/lib/python3.6/site-packages/sklearn/metrics/classification.py:1135: UndefinedMetricWarning: F-score is ill-defined and being set to 0.0 in labels with no predicted samples.\n",
      "  'precision', 'predicted', average, warn_for)\n"
     ]
    },
    {
     "name": "stdout",
     "output_type": "stream",
     "text": [
      "LinearSVC\n",
      "            train f1-score:0.8209521980873006\n",
      "            test  f1-score:0.6201930247291403\n",
      "            \n",
      "MultinomialNB\n",
      "            train f1-score:0.8209521980873006\n",
      "            test  f1-score:0.39099480032488043\n",
      "            \n",
      "[17:51:28] WARNING: /workspace/src/learner.cc:480: \n",
      "Parameters: { ntrees, silent } might not be used.\n",
      "\n",
      "  This may not be accurate due to some parameters are only used in language bindings but\n",
      "  passed down to XGBoost core.  Or some parameters are not used but slip through this\n",
      "  verification. Please open an issue if you find above cases.\n",
      "\n",
      "\n"
     ]
    },
    {
     "name": "stderr",
     "output_type": "stream",
     "text": [
      "/home/ubuntu/anaconda3/lib/python3.6/site-packages/sklearn/metrics/classification.py:1135: UndefinedMetricWarning: F-score is ill-defined and being set to 0.0 in labels with no predicted samples.\n",
      "  'precision', 'predicted', average, warn_for)\n"
     ]
    },
    {
     "name": "stdout",
     "output_type": "stream",
     "text": [
      "[0]\ttrain-merror:0.39823\ttest-merror:0.44009\n",
      "Multiple eval metrics have been passed: 'test-merror' will be used for early stopping.\n",
      "\n",
      "Will train until test-merror hasn't improved in 6 rounds.\n",
      "[1]\ttrain-merror:0.36608\ttest-merror:0.40553\n",
      "[2]\ttrain-merror:0.34674\ttest-merror:0.39286\n",
      "[3]\ttrain-merror:0.33829\ttest-merror:0.37903\n",
      "[4]\ttrain-merror:0.33175\ttest-merror:0.37558\n",
      "[5]\ttrain-merror:0.32343\ttest-merror:0.36751\n",
      "[6]\ttrain-merror:0.31907\ttest-merror:0.36636\n",
      "[7]\ttrain-merror:0.31216\ttest-merror:0.36290\n",
      "[8]\ttrain-merror:0.30434\ttest-merror:0.35829\n",
      "[9]\ttrain-merror:0.29807\ttest-merror:0.35829\n",
      "[10]\ttrain-merror:0.29205\ttest-merror:0.35138\n",
      "[11]\ttrain-merror:0.28602\ttest-merror:0.35714\n",
      "[12]\ttrain-merror:0.28039\ttest-merror:0.35599\n",
      "[13]\ttrain-merror:0.27360\ttest-merror:0.34562\n",
      "[14]\ttrain-merror:0.27104\ttest-merror:0.34793\n",
      "[15]\ttrain-merror:0.26809\ttest-merror:0.34793\n",
      "[16]\ttrain-merror:0.26182\ttest-merror:0.34447\n",
      "[17]\ttrain-merror:0.25785\ttest-merror:0.34562\n",
      "[18]\ttrain-merror:0.25631\ttest-merror:0.34447\n",
      "[19]\ttrain-merror:0.25003\ttest-merror:0.34562\n",
      "[20]\ttrain-merror:0.24632\ttest-merror:0.34793\n",
      "[21]\ttrain-merror:0.24196\ttest-merror:0.35138\n",
      "[22]\ttrain-merror:0.23620\ttest-merror:0.35138\n",
      "Stopping. Best iteration:\n",
      "[16]\ttrain-merror:0.26182\ttest-merror:0.34447\n",
      "\n",
      "XGBClassifier\n",
      "            train f1-score:0.8209521980873006\n",
      "            test  f1-score:0.6401477448574012\n",
      "            \n",
      "Merged score: 0.6212556583712794\n",
      "\n"
     ]
    },
    {
     "name": "stderr",
     "output_type": "stream",
     "text": [
      "/home/ubuntu/anaconda3/lib/python3.6/site-packages/sklearn/metrics/classification.py:1135: UndefinedMetricWarning: F-score is ill-defined and being set to 0.0 in labels with no predicted samples.\n",
      "  'precision', 'predicted', average, warn_for)\n",
      "/home/ubuntu/anaconda3/lib/python3.6/site-packages/sklearn/metrics/classification.py:1135: UndefinedMetricWarning: F-score is ill-defined and being set to 0.0 in labels with no predicted samples.\n",
      "  'precision', 'predicted', average, warn_for)\n",
      "/home/ubuntu/anaconda3/lib/python3.6/site-packages/sklearn/metrics/classification.py:1135: UndefinedMetricWarning: F-score is ill-defined and being set to 0.0 in labels with no predicted samples.\n",
      "  'precision', 'predicted', average, warn_for)\n"
     ]
    },
    {
     "name": "stdout",
     "output_type": "stream",
     "text": [
      "LinearSVC\n",
      "            train f1-score:0.821464194248243\n",
      "            test  f1-score:0.6375902465837011\n",
      "            \n",
      "MultinomialNB\n",
      "            train f1-score:0.821464194248243\n",
      "            test  f1-score:0.39791195125143625\n",
      "            \n",
      "[17:51:36] WARNING: /workspace/src/learner.cc:480: \n",
      "Parameters: { ntrees, silent } might not be used.\n",
      "\n",
      "  This may not be accurate due to some parameters are only used in language bindings but\n",
      "  passed down to XGBoost core.  Or some parameters are not used but slip through this\n",
      "  verification. Please open an issue if you find above cases.\n",
      "\n",
      "\n",
      "[0]\ttrain-merror:0.39503\ttest-merror:0.41129\n",
      "Multiple eval metrics have been passed: 'test-merror' will be used for early stopping.\n",
      "\n",
      "Will train until test-merror hasn't improved in 6 rounds.\n",
      "[1]\ttrain-merror:0.36211\ttest-merror:0.36982\n",
      "[2]\ttrain-merror:0.35122\ttest-merror:0.35945\n",
      "[3]\ttrain-merror:0.34072\ttest-merror:0.35369\n",
      "[4]\ttrain-merror:0.33227\ttest-merror:0.34793\n",
      "[5]\ttrain-merror:0.32765\ttest-merror:0.34908\n",
      "[6]\ttrain-merror:0.31907\ttest-merror:0.35023\n",
      "[7]\ttrain-merror:0.31497\ttest-merror:0.34562\n",
      "[8]\ttrain-merror:0.30857\ttest-merror:0.33986\n",
      "[9]\ttrain-merror:0.30165\ttest-merror:0.34217\n",
      "[10]\ttrain-merror:0.29563\ttest-merror:0.34217\n",
      "[11]\ttrain-merror:0.28871\ttest-merror:0.33641\n",
      "[12]\ttrain-merror:0.28513\ttest-merror:0.33756\n",
      "[13]\ttrain-merror:0.28103\ttest-merror:0.33180\n",
      "[14]\ttrain-merror:0.27270\ttest-merror:0.33180\n",
      "[15]\ttrain-merror:0.26925\ttest-merror:0.34332\n",
      "[16]\ttrain-merror:0.26579\ttest-merror:0.33525\n",
      "[17]\ttrain-merror:0.26105\ttest-merror:0.33180\n",
      "[18]\ttrain-merror:0.25644\ttest-merror:0.33525\n",
      "[19]\ttrain-merror:0.25208\ttest-merror:0.33065\n",
      "[20]\ttrain-merror:0.24580\ttest-merror:0.32834\n",
      "[21]\ttrain-merror:0.23991\ttest-merror:0.33410\n",
      "[22]\ttrain-merror:0.23492\ttest-merror:0.33180\n",
      "[23]\ttrain-merror:0.23197\ttest-merror:0.34101\n",
      "[24]\ttrain-merror:0.22864\ttest-merror:0.33410\n",
      "[25]\ttrain-merror:0.22518\ttest-merror:0.33065\n",
      "[26]\ttrain-merror:0.22083\ttest-merror:0.34217\n",
      "Stopping. Best iteration:\n",
      "[20]\ttrain-merror:0.24580\ttest-merror:0.32834\n",
      "\n",
      "XGBClassifier\n",
      "            train f1-score:0.821464194248243\n",
      "            test  f1-score:0.6500894865248572\n",
      "            \n",
      "Merged score: 0.6386993151031327\n",
      "\n"
     ]
    },
    {
     "name": "stderr",
     "output_type": "stream",
     "text": [
      "/home/ubuntu/anaconda3/lib/python3.6/site-packages/sklearn/metrics/classification.py:1135: UndefinedMetricWarning: F-score is ill-defined and being set to 0.0 in labels with no predicted samples.\n",
      "  'precision', 'predicted', average, warn_for)\n"
     ]
    },
    {
     "name": "stdout",
     "output_type": "stream",
     "text": [
      "LinearSVC\n",
      "            train f1-score:0.8231068507184583\n",
      "            test  f1-score:0.625087275179955\n",
      "            \n",
      "MultinomialNB\n",
      "            train f1-score:0.8231068507184583\n",
      "            test  f1-score:0.40177536559582605\n",
      "            \n",
      "[17:51:43] WARNING: /workspace/src/learner.cc:480: \n",
      "Parameters: { ntrees, silent } might not be used.\n",
      "\n",
      "  This may not be accurate due to some parameters are only used in language bindings but\n",
      "  passed down to XGBoost core.  Or some parameters are not used but slip through this\n",
      "  verification. Please open an issue if you find above cases.\n",
      "\n",
      "\n"
     ]
    },
    {
     "name": "stderr",
     "output_type": "stream",
     "text": [
      "/home/ubuntu/anaconda3/lib/python3.6/site-packages/sklearn/metrics/classification.py:1135: UndefinedMetricWarning: F-score is ill-defined and being set to 0.0 in labels with no predicted samples.\n",
      "  'precision', 'predicted', average, warn_for)\n"
     ]
    },
    {
     "name": "stdout",
     "output_type": "stream",
     "text": [
      "[0]\ttrain-merror:0.38260\ttest-merror:0.43664\n",
      "Multiple eval metrics have been passed: 'test-merror' will be used for early stopping.\n",
      "\n",
      "Will train until test-merror hasn't improved in 6 rounds.\n",
      "[1]\ttrain-merror:0.35109\ttest-merror:0.39977\n",
      "[2]\ttrain-merror:0.33905\ttest-merror:0.40092\n",
      "[3]\ttrain-merror:0.33239\ttest-merror:0.39286\n",
      "[4]\ttrain-merror:0.32740\ttest-merror:0.38940\n",
      "[5]\ttrain-merror:0.31997\ttest-merror:0.38940\n",
      "[6]\ttrain-merror:0.31574\ttest-merror:0.38479\n",
      "[7]\ttrain-merror:0.30678\ttest-merror:0.38018\n",
      "[8]\ttrain-merror:0.30165\ttest-merror:0.38249\n",
      "[9]\ttrain-merror:0.29217\ttest-merror:0.37788\n",
      "[10]\ttrain-merror:0.28769\ttest-merror:0.37558\n",
      "[11]\ttrain-merror:0.28206\ttest-merror:0.37558\n",
      "[12]\ttrain-merror:0.27527\ttest-merror:0.38134\n",
      "[13]\ttrain-merror:0.27155\ttest-merror:0.37097\n",
      "[14]\ttrain-merror:0.26643\ttest-merror:0.37327\n",
      "[15]\ttrain-merror:0.26143\ttest-merror:0.37327\n",
      "[16]\ttrain-merror:0.25580\ttest-merror:0.36751\n",
      "[17]\ttrain-merror:0.25029\ttest-merror:0.36406\n",
      "[18]\ttrain-merror:0.24619\ttest-merror:0.36751\n",
      "[19]\ttrain-merror:0.24119\ttest-merror:0.36406\n",
      "[20]\ttrain-merror:0.23530\ttest-merror:0.36290\n",
      "[21]\ttrain-merror:0.23095\ttest-merror:0.36406\n",
      "[22]\ttrain-merror:0.22698\ttest-merror:0.35945\n",
      "[23]\ttrain-merror:0.22185\ttest-merror:0.35714\n",
      "[24]\ttrain-merror:0.22301\ttest-merror:0.35945\n",
      "[25]\ttrain-merror:0.21891\ttest-merror:0.36521\n",
      "[26]\ttrain-merror:0.21058\ttest-merror:0.36060\n",
      "[27]\ttrain-merror:0.20917\ttest-merror:0.35714\n",
      "[28]\ttrain-merror:0.20430\ttest-merror:0.35714\n",
      "[29]\ttrain-merror:0.20341\ttest-merror:0.35138\n",
      "XGBClassifier\n",
      "            train f1-score:0.8231068507184583\n",
      "            test  f1-score:0.6435197234722234\n",
      "            \n",
      "Merged score: 0.625087275179955\n",
      "\n",
      "LinearSVC\n",
      "            train f1-score:0.8183448163056978\n",
      "            test  f1-score:0.6348207048368433\n",
      "            \n",
      "MultinomialNB\n",
      "            train f1-score:0.8183448163056978\n",
      "            test  f1-score:0.3925261566641613\n",
      "            \n",
      "[17:51:51] WARNING: /workspace/src/learner.cc:480: \n",
      "Parameters: { ntrees, silent } might not be used.\n",
      "\n",
      "  This may not be accurate due to some parameters are only used in language bindings but\n",
      "  passed down to XGBoost core.  Or some parameters are not used but slip through this\n",
      "  verification. Please open an issue if you find above cases.\n",
      "\n",
      "\n"
     ]
    },
    {
     "name": "stderr",
     "output_type": "stream",
     "text": [
      "/home/ubuntu/anaconda3/lib/python3.6/site-packages/sklearn/metrics/classification.py:1135: UndefinedMetricWarning: F-score is ill-defined and being set to 0.0 in labels with no predicted samples.\n",
      "  'precision', 'predicted', average, warn_for)\n"
     ]
    },
    {
     "name": "stdout",
     "output_type": "stream",
     "text": [
      "[0]\ttrain-merror:0.39836\ttest-merror:0.42742\n",
      "Multiple eval metrics have been passed: 'test-merror' will be used for early stopping.\n",
      "\n",
      "Will train until test-merror hasn't improved in 6 rounds.\n",
      "[1]\ttrain-merror:0.36403\ttest-merror:0.39286\n",
      "[2]\ttrain-merror:0.34738\ttest-merror:0.38940\n",
      "[3]\ttrain-merror:0.34034\ttest-merror:0.37673\n",
      "[4]\ttrain-merror:0.33009\ttest-merror:0.37442\n",
      "[5]\ttrain-merror:0.32381\ttest-merror:0.37558\n",
      "[6]\ttrain-merror:0.31613\ttest-merror:0.37097\n",
      "[7]\ttrain-merror:0.31356\ttest-merror:0.37673\n",
      "[8]\ttrain-merror:0.30434\ttest-merror:0.37558\n",
      "[9]\ttrain-merror:0.29666\ttest-merror:0.37327\n",
      "[10]\ttrain-merror:0.29358\ttest-merror:0.36751\n",
      "[11]\ttrain-merror:0.28808\ttest-merror:0.36175\n",
      "[12]\ttrain-merror:0.28526\ttest-merror:0.35714\n",
      "[13]\ttrain-merror:0.27872\ttest-merror:0.35714\n",
      "[14]\ttrain-merror:0.27117\ttest-merror:0.35484\n",
      "[15]\ttrain-merror:0.26707\ttest-merror:0.35138\n",
      "[16]\ttrain-merror:0.26335\ttest-merror:0.34908\n",
      "[17]\ttrain-merror:0.25772\ttest-merror:0.34793\n",
      "[18]\ttrain-merror:0.25323\ttest-merror:0.35369\n",
      "[19]\ttrain-merror:0.24952\ttest-merror:0.35138\n",
      "[20]\ttrain-merror:0.24311\ttest-merror:0.35138\n",
      "[21]\ttrain-merror:0.23876\ttest-merror:0.35023\n",
      "[22]\ttrain-merror:0.23338\ttest-merror:0.35023\n",
      "[23]\ttrain-merror:0.23031\ttest-merror:0.34908\n",
      "Stopping. Best iteration:\n",
      "[17]\ttrain-merror:0.25772\ttest-merror:0.34793\n",
      "\n",
      "XGBClassifier\n",
      "            train f1-score:0.8183448163056978\n",
      "            test  f1-score:0.6422033175682368\n",
      "            \n",
      "Merged score: 0.6358887688251078\n",
      "\n",
      "LinearSVC\n",
      "            train f1-score:0.8234086229732936\n",
      "            test  f1-score:0.6153684882289172\n",
      "            \n",
      "MultinomialNB\n",
      "            train f1-score:0.8234086229732936\n",
      "            test  f1-score:0.3824511393597721\n",
      "            \n"
     ]
    },
    {
     "name": "stderr",
     "output_type": "stream",
     "text": [
      "/home/ubuntu/anaconda3/lib/python3.6/site-packages/sklearn/metrics/classification.py:1135: UndefinedMetricWarning: F-score is ill-defined and being set to 0.0 in labels with no predicted samples.\n",
      "  'precision', 'predicted', average, warn_for)\n"
     ]
    },
    {
     "name": "stdout",
     "output_type": "stream",
     "text": [
      "[17:51:59] WARNING: /workspace/src/learner.cc:480: \n",
      "Parameters: { ntrees, silent } might not be used.\n",
      "\n",
      "  This may not be accurate due to some parameters are only used in language bindings but\n",
      "  passed down to XGBoost core.  Or some parameters are not used but slip through this\n",
      "  verification. Please open an issue if you find above cases.\n",
      "\n",
      "\n",
      "[0]\ttrain-merror:0.38517\ttest-merror:0.41820\n",
      "Multiple eval metrics have been passed: 'test-merror' will be used for early stopping.\n",
      "\n",
      "Will train until test-merror hasn't improved in 6 rounds.\n",
      "[1]\ttrain-merror:0.35609\ttest-merror:0.40092\n",
      "[2]\ttrain-merror:0.34277\ttest-merror:0.38134\n",
      "[3]\ttrain-merror:0.33816\ttest-merror:0.37903\n",
      "[4]\ttrain-merror:0.32932\ttest-merror:0.36866\n",
      "[5]\ttrain-merror:0.32010\ttest-merror:0.36521\n",
      "[6]\ttrain-merror:0.31523\ttest-merror:0.36751\n",
      "[7]\ttrain-merror:0.30754\ttest-merror:0.36175\n",
      "[8]\ttrain-merror:0.30255\ttest-merror:0.35253\n",
      "[9]\ttrain-merror:0.29845\ttest-merror:0.34793\n",
      "[10]\ttrain-merror:0.29422\ttest-merror:0.34908\n",
      "[11]\ttrain-merror:0.28936\ttest-merror:0.35714\n",
      "[12]\ttrain-merror:0.28334\ttest-merror:0.35599\n",
      "[13]\ttrain-merror:0.28001\ttest-merror:0.35138\n",
      "[14]\ttrain-merror:0.27437\ttest-merror:0.35714\n",
      "[15]\ttrain-merror:0.26860\ttest-merror:0.34793\n",
      "Stopping. Best iteration:\n",
      "[9]\ttrain-merror:0.29845\ttest-merror:0.34793\n",
      "\n",
      "XGBClassifier\n",
      "            train f1-score:0.8234086229732936\n",
      "            test  f1-score:0.6436139316397209\n",
      "            \n",
      "Merged score: 0.6153684882289172\n",
      "\n"
     ]
    },
    {
     "name": "stderr",
     "output_type": "stream",
     "text": [
      "/home/ubuntu/anaconda3/lib/python3.6/site-packages/sklearn/metrics/classification.py:1135: UndefinedMetricWarning: F-score is ill-defined and being set to 0.0 in labels with no predicted samples.\n",
      "  'precision', 'predicted', average, warn_for)\n"
     ]
    },
    {
     "name": "stdout",
     "output_type": "stream",
     "text": [
      "LinearSVC\n",
      "            train f1-score:0.8183680420407872\n",
      "            test  f1-score:0.6342381298740196\n",
      "            \n",
      "MultinomialNB\n",
      "            train f1-score:0.8183680420407872\n",
      "            test  f1-score:0.42704710918370353\n",
      "            \n",
      "[17:52:06] WARNING: /workspace/src/learner.cc:480: \n",
      "Parameters: { ntrees, silent } might not be used.\n",
      "\n",
      "  This may not be accurate due to some parameters are only used in language bindings but\n",
      "  passed down to XGBoost core.  Or some parameters are not used but slip through this\n",
      "  verification. Please open an issue if you find above cases.\n",
      "\n",
      "\n"
     ]
    },
    {
     "name": "stderr",
     "output_type": "stream",
     "text": [
      "/home/ubuntu/anaconda3/lib/python3.6/site-packages/sklearn/metrics/classification.py:1135: UndefinedMetricWarning: F-score is ill-defined and being set to 0.0 in labels with no predicted samples.\n",
      "  'precision', 'predicted', average, warn_for)\n"
     ]
    },
    {
     "name": "stdout",
     "output_type": "stream",
     "text": [
      "[0]\ttrain-merror:0.40156\ttest-merror:0.44700\n",
      "Multiple eval metrics have been passed: 'test-merror' will be used for early stopping.\n",
      "\n",
      "Will train until test-merror hasn't improved in 6 rounds.\n",
      "[1]\ttrain-merror:0.36826\ttest-merror:0.40783\n",
      "[2]\ttrain-merror:0.35507\ttest-merror:0.40092\n",
      "[3]\ttrain-merror:0.34559\ttest-merror:0.38940\n",
      "[4]\ttrain-merror:0.33572\ttest-merror:0.38364\n",
      "[5]\ttrain-merror:0.32817\ttest-merror:0.37903\n",
      "[6]\ttrain-merror:0.32292\ttest-merror:0.37442\n",
      "[7]\ttrain-merror:0.31613\ttest-merror:0.37212\n",
      "[8]\ttrain-merror:0.30870\ttest-merror:0.36751\n",
      "[9]\ttrain-merror:0.30421\ttest-merror:0.35714\n",
      "[10]\ttrain-merror:0.29525\ttest-merror:0.35253\n",
      "[11]\ttrain-merror:0.29435\ttest-merror:0.35484\n",
      "[12]\ttrain-merror:0.28743\ttest-merror:0.35599\n",
      "[13]\ttrain-merror:0.28167\ttest-merror:0.35599\n",
      "[14]\ttrain-merror:0.27629\ttest-merror:0.35599\n",
      "[15]\ttrain-merror:0.27181\ttest-merror:0.35599\n",
      "[16]\ttrain-merror:0.26848\ttest-merror:0.34908\n",
      "[17]\ttrain-merror:0.26502\ttest-merror:0.34677\n",
      "[18]\ttrain-merror:0.26220\ttest-merror:0.35023\n",
      "[19]\ttrain-merror:0.25516\ttest-merror:0.35023\n",
      "[20]\ttrain-merror:0.24721\ttest-merror:0.34677\n",
      "[21]\ttrain-merror:0.24286\ttest-merror:0.34677\n",
      "[22]\ttrain-merror:0.23902\ttest-merror:0.34101\n",
      "[23]\ttrain-merror:0.23581\ttest-merror:0.34793\n",
      "[24]\ttrain-merror:0.23287\ttest-merror:0.35253\n",
      "[25]\ttrain-merror:0.22621\ttest-merror:0.34908\n",
      "[26]\ttrain-merror:0.22326\ttest-merror:0.34562\n",
      "[27]\ttrain-merror:0.22006\ttest-merror:0.34332\n",
      "[28]\ttrain-merror:0.21609\ttest-merror:0.34793\n",
      "Stopping. Best iteration:\n",
      "[22]\ttrain-merror:0.23902\ttest-merror:0.34101\n",
      "\n",
      "XGBClassifier\n",
      "            train f1-score:0.8183680420407872\n",
      "            test  f1-score:0.6473181262413359\n",
      "            \n",
      "Merged score: 0.6352759029153683\n",
      "\n"
     ]
    },
    {
     "name": "stderr",
     "output_type": "stream",
     "text": [
      "/home/ubuntu/anaconda3/lib/python3.6/site-packages/sklearn/metrics/classification.py:1135: UndefinedMetricWarning: F-score is ill-defined and being set to 0.0 in labels with no predicted samples.\n",
      "  'precision', 'predicted', average, warn_for)\n",
      "/home/ubuntu/anaconda3/lib/python3.6/site-packages/sklearn/metrics/classification.py:1135: UndefinedMetricWarning: F-score is ill-defined and being set to 0.0 in labels with no predicted samples.\n",
      "  'precision', 'predicted', average, warn_for)\n"
     ]
    },
    {
     "name": "stdout",
     "output_type": "stream",
     "text": [
      "LinearSVC\n",
      "            train f1-score:0.8227417901260671\n",
      "            test  f1-score:0.6404177386682731\n",
      "            \n",
      "MultinomialNB\n",
      "            train f1-score:0.8227417901260671\n",
      "            test  f1-score:0.40195579548230403\n",
      "            \n",
      "[17:52:14] WARNING: /workspace/src/learner.cc:480: \n",
      "Parameters: { ntrees, silent } might not be used.\n",
      "\n",
      "  This may not be accurate due to some parameters are only used in language bindings but\n",
      "  passed down to XGBoost core.  Or some parameters are not used but slip through this\n",
      "  verification. Please open an issue if you find above cases.\n",
      "\n",
      "\n",
      "[0]\ttrain-merror:0.41066\ttest-merror:0.42972\n",
      "Multiple eval metrics have been passed: 'test-merror' will be used for early stopping.\n",
      "\n",
      "Will train until test-merror hasn't improved in 6 rounds.\n",
      "[1]\ttrain-merror:0.35891\ttest-merror:0.38249\n",
      "[2]\ttrain-merror:0.34175\ttest-merror:0.37097\n",
      "[3]\ttrain-merror:0.33342\ttest-merror:0.36521\n",
      "[4]\ttrain-merror:0.32765\ttest-merror:0.37212\n",
      "[5]\ttrain-merror:0.32176\ttest-merror:0.37097\n",
      "[6]\ttrain-merror:0.31408\ttest-merror:0.36751\n",
      "[7]\ttrain-merror:0.30665\ttest-merror:0.36060\n",
      "[8]\ttrain-merror:0.29896\ttest-merror:0.35484\n",
      "[9]\ttrain-merror:0.29563\ttest-merror:0.35484\n",
      "[10]\ttrain-merror:0.28948\ttest-merror:0.34908\n",
      "[11]\ttrain-merror:0.28244\ttest-merror:0.35369\n",
      "[12]\ttrain-merror:0.27834\ttest-merror:0.35484\n",
      "[13]\ttrain-merror:0.27283\ttest-merror:0.35945\n",
      "[14]\ttrain-merror:0.26925\ttest-merror:0.35599\n",
      "[15]\ttrain-merror:0.26297\ttest-merror:0.35138\n",
      "[16]\ttrain-merror:0.25861\ttest-merror:0.35253\n",
      "Stopping. Best iteration:\n",
      "[10]\ttrain-merror:0.28948\ttest-merror:0.34908\n",
      "\n",
      "XGBClassifier\n",
      "            train f1-score:0.8227417901260671\n",
      "            test  f1-score:0.6409413880938628\n",
      "            \n",
      "Merged score: 0.6404177386682731\n",
      "\n"
     ]
    },
    {
     "name": "stderr",
     "output_type": "stream",
     "text": [
      "/home/ubuntu/anaconda3/lib/python3.6/site-packages/sklearn/metrics/classification.py:1135: UndefinedMetricWarning: F-score is ill-defined and being set to 0.0 in labels with no predicted samples.\n",
      "  'precision', 'predicted', average, warn_for)\n",
      "/home/ubuntu/anaconda3/lib/python3.6/site-packages/sklearn/metrics/classification.py:1135: UndefinedMetricWarning: F-score is ill-defined and being set to 0.0 in labels with no predicted samples.\n",
      "  'precision', 'predicted', average, warn_for)\n"
     ]
    }
   ],
   "source": [
    "results = train_stratified(models=[lsvc, mlNB, xgb_class], X=list_posts, y=list_personality, tf_idf=True, nsplits=10, confusion=False)"
   ]
  },
  {
   "cell_type": "markdown",
   "metadata": {
    "_cell_guid": "9e6a38f2-7d8e-4512-bdf4-85d230855ec4",
    "_uuid": "29e0c7b0a8c475246cdad26791ad6db0a254e096"
   },
   "source": [
    "#### Compare multinomial naive bayes, xgb and their voting predictions"
   ]
  },
  {
   "cell_type": "code",
   "execution_count": 142,
   "metadata": {
    "_cell_guid": "31e80231-fcea-45ed-b4ba-0a3a2b71576d",
    "_uuid": "da41ee2ae73e7306d62bd8b259da20fc4114058c"
   },
   "outputs": [
    {
     "data": {
      "text/plain": [
       "{'merged': 0.6320371954498276,\n",
       " 'LinearSVC': 0.6315537135882094,\n",
       " 'MultinomialNB': 0.40070622938521616,\n",
       " 'XGBClassifier': 0.6446204822727147}"
      ]
     },
     "execution_count": 142,
     "metadata": {},
     "output_type": "execute_result"
    }
   ],
   "source": [
    "results"
   ]
  },
  {
   "cell_type": "code",
   "execution_count": 256,
   "metadata": {},
   "outputs": [],
   "source": [
    "score_tfidf = pd.DataFrame(results, index=['f1 w/ tf-idf'])"
   ]
  },
  {
   "cell_type": "code",
   "execution_count": 143,
   "metadata": {
    "_cell_guid": "393632cf-22cf-49b4-97ca-88cb3c6cd2ba",
    "_uuid": "b766aeeede25e41b209e1f6ac8c8499928673e38",
    "collapsed": true
   },
   "outputs": [
    {
     "name": "stdout",
     "output_type": "stream",
     "text": [
      "LinearSVC\n",
      "            train f1-score:0.85727354034798\n",
      "            test  f1-score:0.546332938101467\n",
      "            \n",
      "MultinomialNB\n",
      "            train f1-score:0.85727354034798\n",
      "            test  f1-score:0.6154614609345527\n",
      "            \n",
      "[17:52:36] WARNING: /workspace/src/learner.cc:480: \n",
      "Parameters: { ntrees, silent } might not be used.\n",
      "\n",
      "  This may not be accurate due to some parameters are only used in language bindings but\n",
      "  passed down to XGBoost core.  Or some parameters are not used but slip through this\n",
      "  verification. Please open an issue if you find above cases.\n",
      "\n",
      "\n",
      "[0]\ttrain-merror:0.40797\ttest-merror:0.40899\n",
      "Multiple eval metrics have been passed: 'test-merror' will be used for early stopping.\n",
      "\n",
      "Will train until test-merror hasn't improved in 6 rounds.\n",
      "[1]\ttrain-merror:0.38017\ttest-merror:0.37558\n",
      "[2]\ttrain-merror:0.37210\ttest-merror:0.38134\n",
      "[3]\ttrain-merror:0.35993\ttest-merror:0.36290\n",
      "[4]\ttrain-merror:0.34905\ttest-merror:0.35945\n",
      "[5]\ttrain-merror:0.34328\ttest-merror:0.35714\n",
      "[6]\ttrain-merror:0.33649\ttest-merror:0.36060\n",
      "[7]\ttrain-merror:0.33022\ttest-merror:0.35484\n",
      "[8]\ttrain-merror:0.31984\ttest-merror:0.35484\n",
      "[9]\ttrain-merror:0.31408\ttest-merror:0.35138\n",
      "[10]\ttrain-merror:0.30972\ttest-merror:0.35253\n",
      "[11]\ttrain-merror:0.30370\ttest-merror:0.34793\n",
      "[12]\ttrain-merror:0.30024\ttest-merror:0.34217\n",
      "[13]\ttrain-merror:0.29614\ttest-merror:0.34677\n",
      "[14]\ttrain-merror:0.28808\ttest-merror:0.34332\n",
      "[15]\ttrain-merror:0.28500\ttest-merror:0.33871\n",
      "[16]\ttrain-merror:0.27834\ttest-merror:0.33756\n",
      "[17]\ttrain-merror:0.27565\ttest-merror:0.33756\n",
      "[18]\ttrain-merror:0.26976\ttest-merror:0.33180\n",
      "[19]\ttrain-merror:0.26604\ttest-merror:0.33756\n",
      "[20]\ttrain-merror:0.26130\ttest-merror:0.32949\n",
      "[21]\ttrain-merror:0.26002\ttest-merror:0.33410\n",
      "[22]\ttrain-merror:0.25874\ttest-merror:0.33525\n",
      "[23]\ttrain-merror:0.25349\ttest-merror:0.33986\n",
      "[24]\ttrain-merror:0.24849\ttest-merror:0.33525\n",
      "[25]\ttrain-merror:0.24465\ttest-merror:0.32949\n",
      "[26]\ttrain-merror:0.24107\ttest-merror:0.33065\n",
      "Stopping. Best iteration:\n",
      "[20]\ttrain-merror:0.26130\ttest-merror:0.32949\n",
      "\n",
      "XGBClassifier\n",
      "            train f1-score:0.85727354034798\n",
      "            test  f1-score:0.658893169915743\n",
      "            \n",
      "Merged score: 0.6445947237451987\n",
      "\n"
     ]
    },
    {
     "name": "stderr",
     "output_type": "stream",
     "text": [
      "/home/ubuntu/anaconda3/lib/python3.6/site-packages/sklearn/metrics/classification.py:1135: UndefinedMetricWarning: F-score is ill-defined and being set to 0.0 in labels with no predicted samples.\n",
      "  'precision', 'predicted', average, warn_for)\n",
      "/home/ubuntu/anaconda3/lib/python3.6/site-packages/sklearn/metrics/classification.py:1135: UndefinedMetricWarning: F-score is ill-defined and being set to 0.0 in labels with no predicted samples.\n",
      "  'precision', 'predicted', average, warn_for)\n",
      "/home/ubuntu/anaconda3/lib/python3.6/site-packages/sklearn/metrics/classification.py:1135: UndefinedMetricWarning: F-score is ill-defined and being set to 0.0 in labels with no predicted samples.\n",
      "  'precision', 'predicted', average, warn_for)\n"
     ]
    },
    {
     "name": "stdout",
     "output_type": "stream",
     "text": [
      "LinearSVC\n",
      "            train f1-score:0.8562328480434256\n",
      "            test  f1-score:0.5102373813173035\n",
      "            \n",
      "MultinomialNB\n",
      "            train f1-score:0.8562328480434256\n",
      "            test  f1-score:0.5948741135019635\n",
      "            \n",
      "[17:52:59] WARNING: /workspace/src/learner.cc:480: \n",
      "Parameters: { ntrees, silent } might not be used.\n",
      "\n",
      "  This may not be accurate due to some parameters are only used in language bindings but\n",
      "  passed down to XGBoost core.  Or some parameters are not used but slip through this\n",
      "  verification. Please open an issue if you find above cases.\n",
      "\n",
      "\n",
      "[0]\ttrain-merror:0.40976\ttest-merror:0.43433\n",
      "Multiple eval metrics have been passed: 'test-merror' will be used for early stopping.\n",
      "\n",
      "Will train until test-merror hasn't improved in 6 rounds.\n",
      "[1]\ttrain-merror:0.38132\ttest-merror:0.41359\n",
      "[2]\ttrain-merror:0.37287\ttest-merror:0.41014\n",
      "[3]\ttrain-merror:0.35366\ttest-merror:0.39401\n",
      "[4]\ttrain-merror:0.34418\ttest-merror:0.38594\n",
      "[5]\ttrain-merror:0.33803\ttest-merror:0.38479\n",
      "[6]\ttrain-merror:0.32714\ttest-merror:0.37212\n",
      "[7]\ttrain-merror:0.32343\ttest-merror:0.37097\n",
      "[8]\ttrain-merror:0.31574\ttest-merror:0.36636\n",
      "[9]\ttrain-merror:0.31177\ttest-merror:0.35599\n",
      "[10]\ttrain-merror:0.30421\ttest-merror:0.36060\n",
      "[11]\ttrain-merror:0.29819\ttest-merror:0.35369\n",
      "[12]\ttrain-merror:0.29179\ttest-merror:0.35599\n",
      "[13]\ttrain-merror:0.28667\ttest-merror:0.35829\n",
      "[14]\ttrain-merror:0.28116\ttest-merror:0.35369\n",
      "[15]\ttrain-merror:0.27834\ttest-merror:0.35714\n",
      "[16]\ttrain-merror:0.27232\ttest-merror:0.35829\n",
      "[17]\ttrain-merror:0.26860\ttest-merror:0.35829\n",
      "Stopping. Best iteration:\n",
      "[11]\ttrain-merror:0.29819\ttest-merror:0.35369\n",
      "\n",
      "XGBClassifier\n",
      "            train f1-score:0.8562328480434256\n",
      "            test  f1-score:0.6326046825189369\n",
      "            \n",
      "Merged score: 0.6159884486972583\n",
      "\n"
     ]
    },
    {
     "name": "stderr",
     "output_type": "stream",
     "text": [
      "/home/ubuntu/anaconda3/lib/python3.6/site-packages/sklearn/metrics/classification.py:1135: UndefinedMetricWarning: F-score is ill-defined and being set to 0.0 in labels with no predicted samples.\n",
      "  'precision', 'predicted', average, warn_for)\n",
      "/home/ubuntu/anaconda3/lib/python3.6/site-packages/sklearn/metrics/classification.py:1135: UndefinedMetricWarning: F-score is ill-defined and being set to 0.0 in labels with no predicted samples.\n",
      "  'precision', 'predicted', average, warn_for)\n"
     ]
    },
    {
     "name": "stdout",
     "output_type": "stream",
     "text": [
      "LinearSVC\n",
      "            train f1-score:0.8541099184854495\n",
      "            test  f1-score:0.5498331582051752\n",
      "            \n",
      "MultinomialNB\n",
      "            train f1-score:0.8541099184854495\n",
      "            test  f1-score:0.5922982696412921\n",
      "            \n",
      "[17:53:21] WARNING: /workspace/src/learner.cc:480: \n",
      "Parameters: { ntrees, silent } might not be used.\n",
      "\n",
      "  This may not be accurate due to some parameters are only used in language bindings but\n",
      "  passed down to XGBoost core.  Or some parameters are not used but slip through this\n",
      "  verification. Please open an issue if you find above cases.\n",
      "\n",
      "\n",
      "[0]\ttrain-merror:0.41091\ttest-merror:0.42627\n",
      "Multiple eval metrics have been passed: 'test-merror' will be used for early stopping.\n",
      "\n",
      "Will train until test-merror hasn't improved in 6 rounds.\n",
      "[1]\ttrain-merror:0.38632\ttest-merror:0.39631\n",
      "[2]\ttrain-merror:0.37172\ttest-merror:0.38940\n",
      "[3]\ttrain-merror:0.35404\ttest-merror:0.37903\n",
      "[4]\ttrain-merror:0.34495\ttest-merror:0.37212\n",
      "[5]\ttrain-merror:0.33970\ttest-merror:0.36636\n",
      "[6]\ttrain-merror:0.33380\ttest-merror:0.35945\n",
      "[7]\ttrain-merror:0.32484\ttest-merror:0.35599\n",
      "[8]\ttrain-merror:0.31933\ttest-merror:0.35484\n",
      "[9]\ttrain-merror:0.31356\ttest-merror:0.35714\n",
      "[10]\ttrain-merror:0.30537\ttest-merror:0.35599\n",
      "[11]\ttrain-merror:0.30127\ttest-merror:0.35253\n",
      "[12]\ttrain-merror:0.29755\ttest-merror:0.34217\n",
      "[13]\ttrain-merror:0.29217\ttest-merror:0.34101\n",
      "[14]\ttrain-merror:0.28769\ttest-merror:0.34217\n",
      "[15]\ttrain-merror:0.28359\ttest-merror:0.33871\n",
      "[16]\ttrain-merror:0.28039\ttest-merror:0.33871\n",
      "[17]\ttrain-merror:0.27796\ttest-merror:0.33756\n",
      "[18]\ttrain-merror:0.27232\ttest-merror:0.33871\n",
      "[19]\ttrain-merror:0.26848\ttest-merror:0.33410\n",
      "[20]\ttrain-merror:0.26130\ttest-merror:0.34332\n",
      "[21]\ttrain-merror:0.25874\ttest-merror:0.33065\n",
      "[22]\ttrain-merror:0.25464\ttest-merror:0.33410\n",
      "[23]\ttrain-merror:0.25144\ttest-merror:0.33065\n",
      "[24]\ttrain-merror:0.24683\ttest-merror:0.32834\n",
      "[25]\ttrain-merror:0.24491\ttest-merror:0.33871\n",
      "[26]\ttrain-merror:0.24311\ttest-merror:0.33525\n",
      "[27]\ttrain-merror:0.23812\ttest-merror:0.34101\n",
      "[28]\ttrain-merror:0.23428\ttest-merror:0.33871\n",
      "[29]\ttrain-merror:0.23095\ttest-merror:0.33525\n",
      "XGBClassifier\n",
      "            train f1-score:0.8541099184854495\n",
      "            test  f1-score:0.6583568382806176\n",
      "            \n",
      "Merged score: 0.6407798163249627\n",
      "\n",
      "LinearSVC\n",
      "            train f1-score:0.8440984939748818\n",
      "            test  f1-score:0.5440991939043831\n",
      "            \n",
      "MultinomialNB\n",
      "            train f1-score:0.8440984939748818\n",
      "            test  f1-score:0.6034147199764353\n",
      "            \n",
      "[17:53:43] WARNING: /workspace/src/learner.cc:480: \n",
      "Parameters: { ntrees, silent } might not be used.\n",
      "\n",
      "  This may not be accurate due to some parameters are only used in language bindings but\n",
      "  passed down to XGBoost core.  Or some parameters are not used but slip through this\n",
      "  verification. Please open an issue if you find above cases.\n",
      "\n",
      "\n",
      "[0]\ttrain-merror:0.41309\ttest-merror:0.39862\n",
      "Multiple eval metrics have been passed: 'test-merror' will be used for early stopping.\n",
      "\n",
      "Will train until test-merror hasn't improved in 6 rounds.\n",
      "[1]\ttrain-merror:0.38427\ttest-merror:0.36406\n",
      "[2]\ttrain-merror:0.37095\ttest-merror:0.35829\n",
      "[3]\ttrain-merror:0.35737\ttest-merror:0.35138\n",
      "[4]\ttrain-merror:0.34546\ttest-merror:0.34562\n",
      "[5]\ttrain-merror:0.33829\ttest-merror:0.34447\n",
      "[6]\ttrain-merror:0.33150\ttest-merror:0.33180\n",
      "[7]\ttrain-merror:0.32945\ttest-merror:0.33756\n",
      "[8]\ttrain-merror:0.32151\ttest-merror:0.33410\n",
      "[9]\ttrain-merror:0.31587\ttest-merror:0.33065\n",
      "[10]\ttrain-merror:0.30947\ttest-merror:0.32719\n",
      "[11]\ttrain-merror:0.30396\ttest-merror:0.32488\n",
      "[12]\ttrain-merror:0.29819\ttest-merror:0.32143\n",
      "[13]\ttrain-merror:0.29538\ttest-merror:0.32258\n",
      "[14]\ttrain-merror:0.29000\ttest-merror:0.32373\n",
      "[15]\ttrain-merror:0.28820\ttest-merror:0.31912\n",
      "[16]\ttrain-merror:0.28257\ttest-merror:0.32258\n",
      "[17]\ttrain-merror:0.27629\ttest-merror:0.31912\n",
      "[18]\ttrain-merror:0.27142\ttest-merror:0.31797\n",
      "[19]\ttrain-merror:0.26707\ttest-merror:0.31567\n",
      "[20]\ttrain-merror:0.26451\ttest-merror:0.32604\n",
      "[21]\ttrain-merror:0.25977\ttest-merror:0.31912\n",
      "[22]\ttrain-merror:0.25580\ttest-merror:0.31567\n",
      "[23]\ttrain-merror:0.25298\ttest-merror:0.31452\n",
      "[24]\ttrain-merror:0.24811\ttest-merror:0.32028\n",
      "[25]\ttrain-merror:0.24401\ttest-merror:0.31797\n",
      "[26]\ttrain-merror:0.24222\ttest-merror:0.32488\n",
      "[27]\ttrain-merror:0.23722\ttest-merror:0.32604\n",
      "[28]\ttrain-merror:0.23594\ttest-merror:0.31452\n",
      "[29]\ttrain-merror:0.23338\ttest-merror:0.31567\n",
      "Stopping. Best iteration:\n",
      "[23]\ttrain-merror:0.25298\ttest-merror:0.31452\n",
      "\n",
      "XGBClassifier\n",
      "            train f1-score:0.8440984939748818\n",
      "            test  f1-score:0.6792366884225777\n",
      "            \n",
      "Merged score: 0.6436322482187395\n",
      "\n",
      "LinearSVC\n",
      "            train f1-score:0.85627986767785\n",
      "            test  f1-score:0.5248760413279197\n",
      "            \n",
      "MultinomialNB\n",
      "            train f1-score:0.85627986767785\n",
      "            test  f1-score:0.6184442483444469\n",
      "            \n",
      "[17:54:05] WARNING: /workspace/src/learner.cc:480: \n",
      "Parameters: { ntrees, silent } might not be used.\n",
      "\n",
      "  This may not be accurate due to some parameters are only used in language bindings but\n",
      "  passed down to XGBoost core.  Or some parameters are not used but slip through this\n",
      "  verification. Please open an issue if you find above cases.\n",
      "\n",
      "\n",
      "[0]\ttrain-merror:0.41053\ttest-merror:0.40207\n",
      "Multiple eval metrics have been passed: 'test-merror' will be used for early stopping.\n",
      "\n",
      "Will train until test-merror hasn't improved in 6 rounds.\n",
      "[1]\ttrain-merror:0.38491\ttest-merror:0.38018\n",
      "[2]\ttrain-merror:0.36851\ttest-merror:0.36866\n",
      "[3]\ttrain-merror:0.35865\ttest-merror:0.36636\n",
      "[4]\ttrain-merror:0.34853\ttest-merror:0.35253\n",
      "[5]\ttrain-merror:0.33970\ttest-merror:0.34447\n",
      "[6]\ttrain-merror:0.33175\ttest-merror:0.33641\n",
      "[7]\ttrain-merror:0.32996\ttest-merror:0.33871\n",
      "[8]\ttrain-merror:0.32125\ttest-merror:0.34101\n",
      "[9]\ttrain-merror:0.31151\ttest-merror:0.33525\n",
      "[10]\ttrain-merror:0.30780\ttest-merror:0.33525\n",
      "[11]\ttrain-merror:0.30293\ttest-merror:0.33525\n",
      "[12]\ttrain-merror:0.29717\ttest-merror:0.33986\n",
      "[13]\ttrain-merror:0.29076\ttest-merror:0.33410\n",
      "[14]\ttrain-merror:0.28667\ttest-merror:0.33525\n",
      "[15]\ttrain-merror:0.28167\ttest-merror:0.34447\n",
      "[16]\ttrain-merror:0.27680\ttest-merror:0.33871\n",
      "[17]\ttrain-merror:0.27258\ttest-merror:0.33525\n",
      "[18]\ttrain-merror:0.26989\ttest-merror:0.33756\n",
      "[19]\ttrain-merror:0.26681\ttest-merror:0.33986\n",
      "Stopping. Best iteration:\n",
      "[13]\ttrain-merror:0.29076\ttest-merror:0.33410\n",
      "\n",
      "XGBClassifier\n",
      "            train f1-score:0.85627986767785\n",
      "            test  f1-score:0.6506222245726366\n",
      "            \n",
      "Merged score: 0.6361711849124967\n",
      "\n"
     ]
    },
    {
     "name": "stderr",
     "output_type": "stream",
     "text": [
      "/home/ubuntu/anaconda3/lib/python3.6/site-packages/sklearn/metrics/classification.py:1135: UndefinedMetricWarning: F-score is ill-defined and being set to 0.0 in labels with no predicted samples.\n",
      "  'precision', 'predicted', average, warn_for)\n"
     ]
    },
    {
     "name": "stdout",
     "output_type": "stream",
     "text": [
      "LinearSVC\n",
      "            train f1-score:0.855141200637056\n",
      "            test  f1-score:0.5320028850758892\n",
      "            \n",
      "MultinomialNB\n",
      "            train f1-score:0.855141200637056\n",
      "            test  f1-score:0.5872034987907977\n",
      "            \n",
      "[17:54:27] WARNING: /workspace/src/learner.cc:480: \n",
      "Parameters: { ntrees, silent } might not be used.\n",
      "\n",
      "  This may not be accurate due to some parameters are only used in language bindings but\n",
      "  passed down to XGBoost core.  Or some parameters are not used but slip through this\n",
      "  verification. Please open an issue if you find above cases.\n",
      "\n",
      "\n",
      "[0]\ttrain-merror:0.40502\ttest-merror:0.42627\n",
      "Multiple eval metrics have been passed: 'test-merror' will be used for early stopping.\n",
      "\n",
      "Will train until test-merror hasn't improved in 6 rounds.\n",
      "[1]\ttrain-merror:0.38094\ttest-merror:0.41359\n",
      "[2]\ttrain-merror:0.36788\ttest-merror:0.39747\n",
      "[3]\ttrain-merror:0.35494\ttest-merror:0.39171\n",
      "[4]\ttrain-merror:0.34354\ttest-merror:0.38940\n",
      "[5]\ttrain-merror:0.33637\ttest-merror:0.38249\n",
      "[6]\ttrain-merror:0.33124\ttest-merror:0.36982\n",
      "[7]\ttrain-merror:0.32432\ttest-merror:0.35714\n",
      "[8]\ttrain-merror:0.32266\ttest-merror:0.35023\n",
      "[9]\ttrain-merror:0.31587\ttest-merror:0.34677\n",
      "[10]\ttrain-merror:0.30806\ttest-merror:0.34332\n",
      "[11]\ttrain-merror:0.30242\ttest-merror:0.34562\n",
      "[12]\ttrain-merror:0.29589\ttest-merror:0.33871\n",
      "[13]\ttrain-merror:0.29115\ttest-merror:0.33986\n",
      "[14]\ttrain-merror:0.28487\ttest-merror:0.33756\n",
      "[15]\ttrain-merror:0.28103\ttest-merror:0.34332\n",
      "[16]\ttrain-merror:0.27552\ttest-merror:0.33641\n",
      "[17]\ttrain-merror:0.27130\ttest-merror:0.34793\n",
      "[18]\ttrain-merror:0.26937\ttest-merror:0.35023\n",
      "[19]\ttrain-merror:0.26489\ttest-merror:0.34217\n",
      "[20]\ttrain-merror:0.26284\ttest-merror:0.33871\n",
      "[21]\ttrain-merror:0.25989\ttest-merror:0.33986\n",
      "[22]\ttrain-merror:0.25490\ttest-merror:0.33525\n",
      "[23]\ttrain-merror:0.25106\ttest-merror:0.32834\n",
      "[24]\ttrain-merror:0.24709\ttest-merror:0.33410\n",
      "[25]\ttrain-merror:0.24107\ttest-merror:0.33065\n",
      "[26]\ttrain-merror:0.23786\ttest-merror:0.32719\n",
      "[27]\ttrain-merror:0.23581\ttest-merror:0.32488\n",
      "[28]\ttrain-merror:0.23210\ttest-merror:0.32719\n",
      "[29]\ttrain-merror:0.22864\ttest-merror:0.32719\n",
      "XGBClassifier\n",
      "            train f1-score:0.855141200637056\n",
      "            test  f1-score:0.6656078419349962\n",
      "            \n",
      "Merged score: 0.6129723069338326\n",
      "\n"
     ]
    },
    {
     "name": "stderr",
     "output_type": "stream",
     "text": [
      "/home/ubuntu/anaconda3/lib/python3.6/site-packages/sklearn/metrics/classification.py:1135: UndefinedMetricWarning: F-score is ill-defined and being set to 0.0 in labels with no predicted samples.\n",
      "  'precision', 'predicted', average, warn_for)\n"
     ]
    },
    {
     "name": "stdout",
     "output_type": "stream",
     "text": [
      "LinearSVC\n",
      "            train f1-score:0.8536137630809579\n",
      "            test  f1-score:0.5600392461476603\n",
      "            \n",
      "MultinomialNB\n",
      "            train f1-score:0.8536137630809579\n",
      "            test  f1-score:0.6137755336923468\n",
      "            \n",
      "[17:54:50] WARNING: /workspace/src/learner.cc:480: \n",
      "Parameters: { ntrees, silent } might not be used.\n",
      "\n",
      "  This may not be accurate due to some parameters are only used in language bindings but\n",
      "  passed down to XGBoost core.  Or some parameters are not used but slip through this\n",
      "  verification. Please open an issue if you find above cases.\n",
      "\n",
      "\n",
      "[0]\ttrain-merror:0.41693\ttest-merror:0.42396\n",
      "Multiple eval metrics have been passed: 'test-merror' will be used for early stopping.\n",
      "\n",
      "Will train until test-merror hasn't improved in 6 rounds.\n",
      "[1]\ttrain-merror:0.38581\ttest-merror:0.37903\n",
      "[2]\ttrain-merror:0.37185\ttest-merror:0.37558\n",
      "[3]\ttrain-merror:0.36198\ttest-merror:0.36406\n",
      "[4]\ttrain-merror:0.35417\ttest-merror:0.35829\n",
      "[5]\ttrain-merror:0.34610\ttest-merror:0.35829\n",
      "[6]\ttrain-merror:0.33700\ttest-merror:0.35023\n",
      "[7]\ttrain-merror:0.32727\ttest-merror:0.34562\n",
      "[8]\ttrain-merror:0.32356\ttest-merror:0.34332\n",
      "[9]\ttrain-merror:0.31677\ttest-merror:0.33295\n",
      "[10]\ttrain-merror:0.31331\ttest-merror:0.32834\n",
      "[11]\ttrain-merror:0.30780\ttest-merror:0.32488\n",
      "[12]\ttrain-merror:0.30319\ttest-merror:0.32719\n",
      "[13]\ttrain-merror:0.29627\ttest-merror:0.32143\n",
      "[14]\ttrain-merror:0.29025\ttest-merror:0.32373\n",
      "[15]\ttrain-merror:0.28731\ttest-merror:0.32143\n",
      "[16]\ttrain-merror:0.28269\ttest-merror:0.32143\n",
      "[17]\ttrain-merror:0.27796\ttest-merror:0.31797\n",
      "[18]\ttrain-merror:0.27258\ttest-merror:0.31452\n",
      "[19]\ttrain-merror:0.27001\ttest-merror:0.31452\n",
      "[20]\ttrain-merror:0.26463\ttest-merror:0.31452\n",
      "[21]\ttrain-merror:0.25926\ttest-merror:0.31682\n",
      "[22]\ttrain-merror:0.25708\ttest-merror:0.31567\n",
      "[23]\ttrain-merror:0.25400\ttest-merror:0.31682\n",
      "[24]\ttrain-merror:0.25016\ttest-merror:0.31567\n",
      "Stopping. Best iteration:\n",
      "[18]\ttrain-merror:0.27258\ttest-merror:0.31452\n",
      "\n",
      "XGBClassifier\n",
      "            train f1-score:0.8536137630809579\n",
      "            test  f1-score:0.677917443581812\n",
      "            \n",
      "Merged score: 0.6578332098796021\n",
      "\n",
      "LinearSVC\n",
      "            train f1-score:0.8558243889504108\n",
      "            test  f1-score:0.5175369200840219\n",
      "            \n",
      "MultinomialNB\n",
      "            train f1-score:0.8558243889504108\n",
      "            test  f1-score:0.6052829171315708\n",
      "            \n",
      "[17:55:12] WARNING: /workspace/src/learner.cc:480: \n",
      "Parameters: { ntrees, silent } might not be used.\n",
      "\n",
      "  This may not be accurate due to some parameters are only used in language bindings but\n",
      "  passed down to XGBoost core.  Or some parameters are not used but slip through this\n",
      "  verification. Please open an issue if you find above cases.\n",
      "\n",
      "\n",
      "[0]\ttrain-merror:0.41117\ttest-merror:0.43318\n",
      "Multiple eval metrics have been passed: 'test-merror' will be used for early stopping.\n",
      "\n",
      "Will train until test-merror hasn't improved in 6 rounds.\n",
      "[1]\ttrain-merror:0.38286\ttest-merror:0.42396\n",
      "[2]\ttrain-merror:0.37056\ttest-merror:0.40783\n",
      "[3]\ttrain-merror:0.35955\ttest-merror:0.39862\n",
      "[4]\ttrain-merror:0.34610\ttest-merror:0.38134\n",
      "[5]\ttrain-merror:0.34085\ttest-merror:0.36982\n",
      "[6]\ttrain-merror:0.33560\ttest-merror:0.36636\n",
      "[7]\ttrain-merror:0.33022\ttest-merror:0.37327\n",
      "[8]\ttrain-merror:0.31933\ttest-merror:0.36866\n",
      "[9]\ttrain-merror:0.31459\ttest-merror:0.36866\n",
      "[10]\ttrain-merror:0.30908\ttest-merror:0.36175\n",
      "[11]\ttrain-merror:0.30306\ttest-merror:0.35714\n",
      "[12]\ttrain-merror:0.29550\ttest-merror:0.35829\n",
      "[13]\ttrain-merror:0.29243\ttest-merror:0.35369\n",
      "[14]\ttrain-merror:0.28769\ttest-merror:0.34908\n",
      "[15]\ttrain-merror:0.28487\ttest-merror:0.35138\n",
      "[16]\ttrain-merror:0.27962\ttest-merror:0.34447\n",
      "[17]\ttrain-merror:0.27527\ttest-merror:0.34908\n",
      "[18]\ttrain-merror:0.26899\ttest-merror:0.34101\n",
      "[19]\ttrain-merror:0.26527\ttest-merror:0.34447\n",
      "[20]\ttrain-merror:0.26130\ttest-merror:0.34562\n",
      "[21]\ttrain-merror:0.25669\ttest-merror:0.34677\n",
      "[22]\ttrain-merror:0.25234\ttest-merror:0.34447\n",
      "[23]\ttrain-merror:0.25016\ttest-merror:0.34447\n",
      "[24]\ttrain-merror:0.24376\ttest-merror:0.34447\n",
      "Stopping. Best iteration:\n",
      "[18]\ttrain-merror:0.26899\ttest-merror:0.34101\n",
      "\n",
      "XGBClassifier\n",
      "            train f1-score:0.8558243889504108\n",
      "            test  f1-score:0.6480438544028493\n",
      "            \n",
      "Merged score: 0.6287399173642593\n",
      "\n"
     ]
    },
    {
     "name": "stderr",
     "output_type": "stream",
     "text": [
      "/home/ubuntu/anaconda3/lib/python3.6/site-packages/sklearn/metrics/classification.py:1135: UndefinedMetricWarning: F-score is ill-defined and being set to 0.0 in labels with no predicted samples.\n",
      "  'precision', 'predicted', average, warn_for)\n"
     ]
    },
    {
     "name": "stdout",
     "output_type": "stream",
     "text": [
      "LinearSVC\n",
      "            train f1-score:0.8567158568771365\n",
      "            test  f1-score:0.5327145151683836\n",
      "            \n",
      "MultinomialNB\n",
      "            train f1-score:0.8567158568771365\n",
      "            test  f1-score:0.5946727022869512\n",
      "            \n",
      "[17:55:34] WARNING: /workspace/src/learner.cc:480: \n",
      "Parameters: { ntrees, silent } might not be used.\n",
      "\n",
      "  This may not be accurate due to some parameters are only used in language bindings but\n",
      "  passed down to XGBoost core.  Or some parameters are not used but slip through this\n",
      "  verification. Please open an issue if you find above cases.\n",
      "\n",
      "\n",
      "[0]\ttrain-merror:0.40310\ttest-merror:0.40553\n",
      "Multiple eval metrics have been passed: 'test-merror' will be used for early stopping.\n",
      "\n",
      "Will train until test-merror hasn't improved in 6 rounds.\n",
      "[1]\ttrain-merror:0.37210\ttest-merror:0.37903\n",
      "[2]\ttrain-merror:0.36096\ttest-merror:0.37327\n",
      "[3]\ttrain-merror:0.35635\ttest-merror:0.37097\n",
      "[4]\ttrain-merror:0.34700\ttest-merror:0.36175\n",
      "[5]\ttrain-merror:0.34251\ttest-merror:0.36175\n",
      "[6]\ttrain-merror:0.33598\ttest-merror:0.35714\n",
      "[7]\ttrain-merror:0.32548\ttest-merror:0.35599\n",
      "[8]\ttrain-merror:0.31856\ttest-merror:0.35138\n",
      "[9]\ttrain-merror:0.31446\ttest-merror:0.34908\n",
      "[10]\ttrain-merror:0.30883\ttest-merror:0.34562\n",
      "[11]\ttrain-merror:0.30319\ttest-merror:0.33871\n",
      "[12]\ttrain-merror:0.29563\ttest-merror:0.34793\n",
      "[13]\ttrain-merror:0.29141\ttest-merror:0.34562\n",
      "[14]\ttrain-merror:0.28615\ttest-merror:0.33986\n",
      "[15]\ttrain-merror:0.27962\ttest-merror:0.33756\n",
      "[16]\ttrain-merror:0.27693\ttest-merror:0.33756\n",
      "[17]\ttrain-merror:0.27309\ttest-merror:0.33871\n",
      "[18]\ttrain-merror:0.26937\ttest-merror:0.33641\n",
      "[19]\ttrain-merror:0.26425\ttest-merror:0.33986\n",
      "[20]\ttrain-merror:0.26054\ttest-merror:0.33525\n",
      "[21]\ttrain-merror:0.25656\ttest-merror:0.32719\n",
      "[22]\ttrain-merror:0.25336\ttest-merror:0.33065\n",
      "[23]\ttrain-merror:0.25029\ttest-merror:0.33065\n",
      "[24]\ttrain-merror:0.24709\ttest-merror:0.33065\n",
      "[25]\ttrain-merror:0.24183\ttest-merror:0.33295\n",
      "[26]\ttrain-merror:0.23902\ttest-merror:0.33410\n",
      "[27]\ttrain-merror:0.23543\ttest-merror:0.33180\n",
      "Stopping. Best iteration:\n",
      "[21]\ttrain-merror:0.25656\ttest-merror:0.32719\n",
      "\n",
      "XGBClassifier\n",
      "            train f1-score:0.8567158568771365\n",
      "            test  f1-score:0.6633590758033227\n",
      "            \n",
      "Merged score: 0.6300102667001205\n",
      "\n",
      "LinearSVC\n",
      "            train f1-score:0.8574347373093045\n",
      "            test  f1-score:0.5420741496559847\n",
      "            \n",
      "MultinomialNB\n",
      "            train f1-score:0.8574347373093045\n",
      "            test  f1-score:0.5710344708599928\n",
      "            \n",
      "[17:55:56] WARNING: /workspace/src/learner.cc:480: \n",
      "Parameters: { ntrees, silent } might not be used.\n",
      "\n",
      "  This may not be accurate due to some parameters are only used in language bindings but\n",
      "  passed down to XGBoost core.  Or some parameters are not used but slip through this\n",
      "  verification. Please open an issue if you find above cases.\n",
      "\n",
      "\n",
      "[0]\ttrain-merror:0.41501\ttest-merror:0.45046\n",
      "Multiple eval metrics have been passed: 'test-merror' will be used for early stopping.\n",
      "\n",
      "Will train until test-merror hasn't improved in 6 rounds.\n",
      "[1]\ttrain-merror:0.39029\ttest-merror:0.43088\n",
      "[2]\ttrain-merror:0.37005\ttest-merror:0.40323\n",
      "[3]\ttrain-merror:0.35814\ttest-merror:0.38825\n",
      "[4]\ttrain-merror:0.34776\ttest-merror:0.38710\n",
      "[5]\ttrain-merror:0.33739\ttest-merror:0.38364\n",
      "[6]\ttrain-merror:0.33201\ttest-merror:0.37903\n",
      "[7]\ttrain-merror:0.32778\ttest-merror:0.37558\n",
      "[8]\ttrain-merror:0.32151\ttest-merror:0.37442\n",
      "[9]\ttrain-merror:0.31446\ttest-merror:0.36636\n",
      "[10]\ttrain-merror:0.30754\ttest-merror:0.37327\n",
      "[11]\ttrain-merror:0.30127\ttest-merror:0.37212\n",
      "[12]\ttrain-merror:0.29371\ttest-merror:0.37327\n",
      "[13]\ttrain-merror:0.28641\ttest-merror:0.36521\n",
      "[14]\ttrain-merror:0.28231\ttest-merror:0.36751\n",
      "[15]\ttrain-merror:0.27924\ttest-merror:0.37097\n",
      "[16]\ttrain-merror:0.27463\ttest-merror:0.36521\n",
      "[17]\ttrain-merror:0.27053\ttest-merror:0.36290\n",
      "[18]\ttrain-merror:0.26656\ttest-merror:0.36175\n",
      "[19]\ttrain-merror:0.26322\ttest-merror:0.36290\n",
      "[20]\ttrain-merror:0.25926\ttest-merror:0.36060\n",
      "[21]\ttrain-merror:0.25516\ttest-merror:0.35714\n",
      "[22]\ttrain-merror:0.25208\ttest-merror:0.36060\n",
      "[23]\ttrain-merror:0.24491\ttest-merror:0.35945\n",
      "[24]\ttrain-merror:0.24478\ttest-merror:0.35714\n",
      "[25]\ttrain-merror:0.24107\ttest-merror:0.35599\n",
      "[26]\ttrain-merror:0.23876\ttest-merror:0.35945\n",
      "[27]\ttrain-merror:0.23389\ttest-merror:0.35599\n",
      "[28]\ttrain-merror:0.23069\ttest-merror:0.35599\n",
      "[29]\ttrain-merror:0.22774\ttest-merror:0.36060\n",
      "XGBClassifier\n",
      "            train f1-score:0.8574347373093045\n",
      "            test  f1-score:0.6347923214707436\n",
      "            \n",
      "Merged score: 0.6313476428732693\n",
      "\n"
     ]
    }
   ],
   "source": [
    "results_idf_false = train_stratified(models=[lsvc, mlNB, xgb_class], X=list_posts, y=list_personality, tf_idf=False, nsplits=10, confusion=False)"
   ]
  },
  {
   "cell_type": "code",
   "execution_count": 144,
   "metadata": {
    "_cell_guid": "31e80231-fcea-45ed-b4ba-0a3a2b71576d",
    "_uuid": "da41ee2ae73e7306d62bd8b259da20fc4114058c"
   },
   "outputs": [
    {
     "data": {
      "text/plain": [
       "{'merged': 0.6342069765649739,\n",
       " 'LinearSVC': 0.5359746428988188,\n",
       " 'MultinomialNB': 0.599646193516035,\n",
       " 'XGBClassifier': 0.6569434140904236}"
      ]
     },
     "execution_count": 144,
     "metadata": {},
     "output_type": "execute_result"
    }
   ],
   "source": [
    "results_idf_false"
   ]
  },
  {
   "cell_type": "code",
   "execution_count": 258,
   "metadata": {},
   "outputs": [
    {
     "data": {
      "text/html": [
       "<div>\n",
       "<style scoped>\n",
       "    .dataframe tbody tr th:only-of-type {\n",
       "        vertical-align: middle;\n",
       "    }\n",
       "\n",
       "    .dataframe tbody tr th {\n",
       "        vertical-align: top;\n",
       "    }\n",
       "\n",
       "    .dataframe thead th {\n",
       "        text-align: right;\n",
       "    }\n",
       "</style>\n",
       "<table border=\"1\" class=\"dataframe\">\n",
       "  <thead>\n",
       "    <tr style=\"text-align: right;\">\n",
       "      <th></th>\n",
       "      <th>merged</th>\n",
       "      <th>LinearSVC</th>\n",
       "      <th>MultinomialNB</th>\n",
       "      <th>XGBClassifier</th>\n",
       "    </tr>\n",
       "  </thead>\n",
       "  <tbody>\n",
       "    <tr>\n",
       "      <th>f1 w/ tf-idf</th>\n",
       "      <td>0.632037</td>\n",
       "      <td>0.631554</td>\n",
       "      <td>0.400706</td>\n",
       "      <td>0.644620</td>\n",
       "    </tr>\n",
       "    <tr>\n",
       "      <th>f1 w/o tf-idf</th>\n",
       "      <td>0.634207</td>\n",
       "      <td>0.535975</td>\n",
       "      <td>0.599646</td>\n",
       "      <td>0.656943</td>\n",
       "    </tr>\n",
       "  </tbody>\n",
       "</table>\n",
       "</div>"
      ],
      "text/plain": [
       "                 merged  LinearSVC  MultinomialNB  XGBClassifier\n",
       "f1 w/ tf-idf   0.632037   0.631554       0.400706       0.644620\n",
       "f1 w/o tf-idf  0.634207   0.535975       0.599646       0.656943"
      ]
     },
     "metadata": {},
     "output_type": "display_data"
    }
   ],
   "source": [
    "score_tfidf_false = pd.DataFrame(results_idf_false, index=['f1 w/o tf-idf'])\n",
    "display(score_tfidf.append(score_tfidf_false))"
   ]
  },
  {
   "cell_type": "code",
   "execution_count": 274,
   "metadata": {},
   "outputs": [
    {
     "data": {
      "image/png": "[encoded data removed]",
      "text/plain": [
       "<Figure size 1080x504 with 2 Axes>"
      ]
     },
     "metadata": {},
     "output_type": "display_data"
    }
   ],
   "source": [
    "plt.figure(figsize=(15,7))\n",
    "plt.subplot(1,2,1)\n",
    "sns.barplot(data=score_tfidf)\n",
    "\n",
    "plt.xlabel('Algorithm', size = 10)\n",
    "plt.ylabel('F1-score', size = 10)\n",
    "plt.title('w/ tf-idf', size=15)\n",
    "plt.xticks(fontsize=10, rotation=0)\n",
    "plt.yticks(fontsize=10, rotation=0)\n",
    "plt.grid(True, axis='y')\n",
    "\n",
    "\n",
    "plt.subplot(1,2,2)\n",
    "plt.xlabel('Algorithm', size = 10)\n",
    "plt.ylabel('F1-score', size = 10)\n",
    "plt.title('w/o tf-idf', size=15)\n",
    "plt.xticks(fontsize=10, rotation=0)\n",
    "plt.yticks(fontsize=10, rotation=0)\n",
    "\n",
    "sns.barplot(data=score_tfidf_false)\n",
    "plt.grid(True, axis='y')\n",
    "\n"
   ]
  },
  {
   "cell_type": "markdown",
   "metadata": {
    "_cell_guid": "ca37c745-8736-4f5c-96ee-e67815141c6a",
    "_uuid": "5808ce84c622a30d92f57b2a0a14a394564bd37f"
   },
   "source": [
    "### Try multioutput classification"
   ]
  },
  {
   "cell_type": "code",
   "execution_count": 60,
   "metadata": {
    "_cell_guid": "6fcfa0cb-5639-4c4e-b29f-2e08795c1242",
    "_uuid": "4fc1c0c9b6da2b44d709d5d88593a54257697303",
    "scrolled": true
   },
   "outputs": [
    {
     "name": "stdout",
     "output_type": "stream",
     "text": [
      "Binarize MBTI list: \n",
      "[[0 0 0 0]\n",
      " [1 0 1 1]\n",
      " [0 0 1 1]\n",
      " ...\n",
      " [0 0 1 1]\n",
      " [0 0 0 1]\n",
      " [0 0 0 1]]\n"
     ]
    }
   ],
   "source": [
    "from sklearn.multioutput import MultiOutputClassifier\n",
    "from sklearn.naive_bayes import GaussianNB\n",
    "from sklearn.ensemble import AdaBoostClassifier\n",
    "import xgboost as xgb\n",
    "\n",
    "b_Pers = {'I':0, 'E':1, 'N':0, 'S':1, 'F':0, 'T':1, 'J':0, 'P':1}\n",
    "b_Pers_list = [{0:'I', 1:'E'}, {0:'N', 1:'S'}, {0:'F', 1:'T'}, {0:'J', 1:'P'}]\n",
    "\n",
    "def translate_personality(personality):\n",
    "    '''\n",
    "    transform mbti to binary vector\n",
    "    '''\n",
    "    return [b_Pers[l] for l in personality]\n",
    "\n",
    "def translate_back(personality):\n",
    "    '''\n",
    "    transform binary vector to mbti personality\n",
    "    '''\n",
    "    s = \"\"\n",
    "    for i, l in enumerate(personality):\n",
    "        s += b_Pers_list[i][l]\n",
    "    return s\n",
    "\n",
    "list_personality_bin = np.array([translate_personality(p) for p in data.type])\n",
    "print(\"Binarize MBTI list: \\n%s\" % list_personality_bin)\n"
   ]
  },
  {
   "cell_type": "code",
   "execution_count": 61,
   "metadata": {
    "_cell_guid": "8c37591b-983b-4044-9244-91980aefd99f",
    "_uuid": "6880e52e889124067e3f1f2cab60a1202027150c"
   },
   "outputs": [
    {
     "name": "stdout",
     "output_type": "stream",
     "text": [
      "f1 score for Extraversion (E) - Introversion (I):\n",
      "0.6466821885913854\n",
      "f1 score for Sensation (S) - INtuition (N):\n",
      "0.5565307176045432\n",
      "f1 score for Thinking (T) - Feeling (F):\n",
      "0.8140120967741935\n",
      "f1 score for Judgement (J) - Perception (P):\n",
      "0.8449598246895544\n"
     ]
    }
   ],
   "source": [
    "# Feed classifier to MultiOutputCLassifier\n",
    "clf = AdaBoostClassifier()\n",
    "# clf = xgb.XGBClassifier()\n",
    "# classifier를 XGBoost Classifier로 바꿔보기\n",
    "multi_target_classifier = MultiOutputClassifier(clf, n_jobs=-1)\n",
    "multi_target_classifier.fit(X_tfidf, list_personality_bin)\n",
    "preds = multi_target_classifier.predict(X_tfidf)\n",
    "\n",
    "preds_t = [translate_back(p) for p in preds]\n",
    "vec1 = data.type ==  preds_t\n",
    "for i in range(4):\n",
    "    print(\"f1 score for %s:\\n%s\" % (titles[i],\n",
    "                                    f1_score(np.array(list_personality_bin)[:,i], preds[:,i])))\n"
   ]
  },
  {
   "cell_type": "code",
   "execution_count": 61,
   "metadata": {
    "_cell_guid": "8c37591b-983b-4044-9244-91980aefd99f",
    "_uuid": "6880e52e889124067e3f1f2cab60a1202027150c"
   },
   "outputs": [
    {
     "name": "stderr",
     "output_type": "stream",
     "text": [
      "/home/ubuntu/anaconda3/lib/python3.6/site-packages/sklearn/preprocessing/label.py:151: DeprecationWarning: The truth value of an empty array is ambiguous. Returning False, but in future this will result in an error. Use `array.size > 0` to check that an array is not empty.\n",
      "  if diff:\n",
      "/home/ubuntu/anaconda3/lib/python3.6/site-packages/sklearn/preprocessing/label.py:151: DeprecationWarning: The truth value of an empty array is ambiguous. Returning False, but in future this will result in an error. Use `array.size > 0` to check that an array is not empty.\n",
      "  if diff:\n",
      "/home/ubuntu/anaconda3/lib/python3.6/site-packages/sklearn/preprocessing/label.py:151: DeprecationWarning: The truth value of an empty array is ambiguous. Returning False, but in future this will result in an error. Use `array.size > 0` to check that an array is not empty.\n",
      "  if diff:\n",
      "/home/ubuntu/anaconda3/lib/python3.6/site-packages/sklearn/preprocessing/label.py:151: DeprecationWarning: The truth value of an empty array is ambiguous. Returning False, but in future this will result in an error. Use `array.size > 0` to check that an array is not empty.\n",
      "  if diff:\n"
     ]
    },
    {
     "name": "stdout",
     "output_type": "stream",
     "text": [
      "f1 score for Extraversion (E) - Introversion (I):\n",
      "0.9989984977466199\n",
      "f1 score for Sensation (S) - INtuition (N):\n",
      "0.9991638795986623\n",
      "f1 score for Thinking (T) - Feeling (F):\n",
      "0.9993719381987187\n",
      "f1 score for Judgement (J) - Perception (P):\n",
      "0.9979986657771848\n"
     ]
    }
   ],
   "source": [
    "# Feed classifier to MultiOutputCLassifier\n",
    "# clf = AdaBoostClassifier()\n",
    "clf = xgb.XGBClassifier()\n",
    "# classifier를 XGBoost Classifier로 바꿔보기\n",
    "multi_target_classifier = MultiOutputClassifier(clf, n_jobs=-1)\n",
    "multi_target_classifier.fit(X_tfidf, list_personality_bin)\n",
    "preds = multi_target_classifier.predict(X_tfidf)\n",
    "\n",
    "preds_t = [translate_back(p) for p in preds]\n",
    "vec1 = data.type ==  preds_t\n",
    "for i in range(4):\n",
    "    print(\"f1 score for %s:\\n%s\" % (titles[i],\n",
    "                                    f1_score(np.array(list_personality_bin)[:,i], preds[:,i])))\n"
   ]
  },
  {
   "cell_type": "markdown",
   "metadata": {},
   "source": [
    "f1 score whyrano....."
   ]
  },
  {
   "cell_type": "code",
   "execution_count": 76,
   "metadata": {
    "_cell_guid": "6cbbdf3c-e9cc-4799-ac9a-b4797660775a",
    "_uuid": "c06928ae12a17e4f7c08b32fe6fa3b945714d11f",
    "scrolled": true
   },
   "outputs": [
    {
     "name": "stderr",
     "output_type": "stream",
     "text": [
      "/home/ubuntu/anaconda3/lib/python3.6/site-packages/sklearn/metrics/classification.py:1135: UndefinedMetricWarning: F-score is ill-defined and being set to 0.0 in labels with no predicted samples.\n",
      "  'precision', 'predicted', average, warn_for)\n",
      "/home/ubuntu/anaconda3/lib/python3.6/site-packages/sklearn/metrics/classification.py:1135: UndefinedMetricWarning: F-score is ill-defined and being set to 0.0 in labels with no predicted samples.\n",
      "  'precision', 'predicted', average, warn_for)\n"
     ]
    },
    {
     "name": "stdout",
     "output_type": "stream",
     "text": [
      "\n",
      "Total score: 0.4975093810215537\n",
      "0.5352941176470588\n",
      "0.4946236559139786\n",
      "0.8109452736318409\n",
      "0.8215919487648673\n",
      "\n",
      "Total score: 0.5299897110100805\n",
      "0.5921787709497207\n",
      "0.5499999999999999\n",
      "0.8044280442804428\n",
      "0.8464285714285713\n"
     ]
    },
    {
     "name": "stderr",
     "output_type": "stream",
     "text": [
      "/home/ubuntu/anaconda3/lib/python3.6/site-packages/sklearn/metrics/classification.py:1135: UndefinedMetricWarning: F-score is ill-defined and being set to 0.0 in labels with no predicted samples.\n",
      "  'precision', 'predicted', average, warn_for)\n",
      "/home/ubuntu/anaconda3/lib/python3.6/site-packages/sklearn/metrics/classification.py:1135: UndefinedMetricWarning: F-score is ill-defined and being set to 0.0 in labels with no predicted samples.\n",
      "  'precision', 'predicted', average, warn_for)\n"
     ]
    },
    {
     "name": "stdout",
     "output_type": "stream",
     "text": [
      "\n",
      "Total score: 0.5322638616037645\n",
      "0.6135693215339233\n",
      "0.5445544554455446\n",
      "0.7860696517412935\n",
      "0.8282097649186257\n",
      "\n",
      "Total score: 0.5075288381508517\n",
      "0.5965909090909091\n",
      "0.5108695652173912\n",
      "0.8010139416983523\n",
      "0.813466787989081\n",
      "\n",
      "Total score: 0.5303345520970726\n",
      "0.5930232558139534\n",
      "0.4421052631578947\n",
      "0.7814910025706941\n",
      "0.848868778280543\n",
      "\n",
      "Total score: 0.5354771676073444\n",
      "0.6467391304347826\n",
      "0.5052631578947367\n",
      "0.8095238095238096\n",
      "0.8330341113105924\n",
      "\n",
      "Total score: 0.512922235171574\n",
      "0.6324786324786325\n",
      "0.47668393782383417\n",
      "0.7959949937421777\n",
      "0.8213961922030825\n",
      "\n",
      "Total score: 0.5360477738838602\n",
      "0.6136986301369863\n",
      "0.5106382978723405\n",
      "0.7835820895522388\n",
      "0.8320895522388061\n"
     ]
    },
    {
     "name": "stderr",
     "output_type": "stream",
     "text": [
      "/home/ubuntu/anaconda3/lib/python3.6/site-packages/sklearn/metrics/classification.py:1135: UndefinedMetricWarning: F-score is ill-defined and being set to 0.0 in labels with no predicted samples.\n",
      "  'precision', 'predicted', average, warn_for)\n",
      "/home/ubuntu/anaconda3/lib/python3.6/site-packages/sklearn/metrics/classification.py:1135: UndefinedMetricWarning: F-score is ill-defined and being set to 0.0 in labels with no predicted samples.\n",
      "  'precision', 'predicted', average, warn_for)\n"
     ]
    },
    {
     "name": "stdout",
     "output_type": "stream",
     "text": [
      "\n",
      "Total score: 0.5341616932855452\n",
      "0.6260869565217392\n",
      "0.5870646766169154\n",
      "0.8129675810473816\n",
      "0.8268876611418048\n",
      "\n",
      "Total score: 0.5069391886455108\n",
      "0.6404494382022471\n",
      "0.48167539267015713\n",
      "0.7928843710292248\n",
      "0.8287292817679557\n"
     ]
    }
   ],
   "source": [
    "# Stratified cross val for multi-output\n",
    "X = list_posts\n",
    "y = np.array(list_personality_bin)\n",
    "\n",
    "# clf = AdaBoostClassifier()\n",
    "# classifier를 XGBoost Classifier로 바꿔보기\n",
    "clf = xgb.XGBClassifier()\n",
    "kf = StratifiedShuffleSplit(n_splits=10)\n",
    "# 10-fold CV\n",
    "\n",
    "list_score = []\n",
    "list_score_per_class= []\n",
    "\n",
    "for train, test in kf.split(X, y):\n",
    "    X_train, X_test, y_train, y_test = \\\n",
    "        X[train], X[test], y[train], y[test]\n",
    "\n",
    "    X_train = cntizer.fit_transform(X_train)\n",
    "    X_test = cntizer.transform(X_test)\n",
    "    \n",
    "    X_train = tfizer.fit_transform(X_train).toarray()\n",
    "    X_test = tfizer.transform(X_test).toarray()\n",
    "\n",
    "    multi_target_classifier = MultiOutputClassifier(clf, n_jobs=-1)\n",
    "    multi_target_classifier.fit(X_train, y_train)\n",
    "    preds = multi_target_classifier.predict(X_test)\n",
    "    \n",
    "    rev_preds = np.array([translate_back(p) for p in preds]) \n",
    "    rev_test = np.array([translate_back(p) for p in y_test])\n",
    "    score = f1_score(rev_test,rev_preds, average='weighted')\n",
    "    list_score.append(score)\n",
    "    print('\\nTotal score: %s' % f1_score(rev_test,rev_preds, average='weighted'))\n",
    "\n",
    "    list_temp =[]\n",
    "    for i in range(4):\n",
    "        score_per_class = f1_score(y_test[:,i], preds[:,i])\n",
    "        list_temp.append(score_per_class)\n",
    "        print(score_per_class)\n",
    "    list_score_per_class.append(list_temp)\n"
   ]
  },
  {
   "cell_type": "markdown",
   "metadata": {},
   "source": [
    "AdaBoost"
   ]
  },
  {
   "cell_type": "code",
   "execution_count": 77,
   "metadata": {
    "_cell_guid": "b5464e41-7ae9-4d2e-b847-ab1ce17955fd",
    "_uuid": "7e8a32f1524a3e0c4d6a181b399255859923efc4"
   },
   "outputs": [
    {
     "name": "stdout",
     "output_type": "stream",
     "text": [
      "Mean score per classes: [0.61 0.51 0.8  0.83]\n"
     ]
    }
   ],
   "source": [
    "list_score_per_class = np.array(list_score_per_class)\n",
    "print('Mean score per classes: %s' % np.around(list_score_per_class.mean(axis=0),2))"
   ]
  },
  {
   "cell_type": "markdown",
   "metadata": {},
   "source": [
    "XGBoost"
   ]
  },
  {
   "cell_type": "code",
   "execution_count": 73,
   "metadata": {
    "_cell_guid": "b5464e41-7ae9-4d2e-b847-ab1ce17955fd",
    "_uuid": "7e8a32f1524a3e0c4d6a181b399255859923efc4"
   },
   "outputs": [
    {
     "name": "stdout",
     "output_type": "stream",
     "text": [
      "Mean score per classes: [0.65 0.56 0.83 0.84]\n"
     ]
    }
   ],
   "source": [
    "list_score_per_class = np.array(list_score_per_class)\n",
    "print('Mean score per classes: %s' % np.around(list_score_per_class.mean(axis=0), 2))"
   ]
  },
  {
   "cell_type": "markdown",
   "metadata": {},
   "source": [
    "AdaBoostClassifier를 사용했을 때  \n",
    "\n",
    "\n",
    "|Attribute| Extraversion (E) - Introversion (I)  | Sensation (S) - INtuition (N)  | Thinking (T) - Feeling (F)  | Judgement (J) - Perception (P)  |   \n",
    "|:-:|---|---|---|---|\n",
    "|F1-Score|0.61 | 0.51 | 0.8 |  0.83|    \n",
    "  \n",
    "XGBoostClassifier를 사용했을 때  \n",
    "\n",
    "\n",
    "|Attribute| Extraversion (E) - Introversion (I)  | Sensation (S) - INtuition (N)  | Thinking (T) - Feeling (F)  | Judgement (J) - Perception (P)  |   \n",
    "|:-:|---|---|---|---|\n",
    "|F1-Score|0.65 | 0.56 | 0.83 |  0.84| "
   ]
  },
  {
   "cell_type": "code",
   "execution_count": null,
   "metadata": {},
   "outputs": [],
   "source": []
  }
 ],
 "metadata": {
  "kernelspec": {
   "display_name": "Python 3",
   "language": "python",
   "name": "python3"
  },
  "language_info": {
   "codemirror_mode": {
    "name": "ipython",
    "version": 3
   },
   "file_extension": ".py",
   "mimetype": "text/x-python",
   "name": "python",
   "nbconvert_exporter": "python",
   "pygments_lexer": "ipython3",
   "version": "3.6.10"
  }
 },
 "nbformat": 4,
 "nbformat_minor": 1
}
